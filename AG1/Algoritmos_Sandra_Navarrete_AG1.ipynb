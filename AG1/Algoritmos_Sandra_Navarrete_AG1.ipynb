{
  "nbformat": 4,
  "nbformat_minor": 0,
  "metadata": {
    "colab": {
      "name": "Algoritmos - Sandra Navarrete - AG1.ipynb",
      "provenance": [],
      "collapsed_sections": [],
      "include_colab_link": true
    },
    "kernelspec": {
      "name": "python3",
      "display_name": "Python 3"
    },
    "language_info": {
      "name": "python"
    }
  },
  "cells": [
    {
      "cell_type": "markdown",
      "metadata": {
        "id": "view-in-github",
        "colab_type": "text"
      },
      "source": [
        "<a href=\"https://colab.research.google.com/github/Sandra1875/-03MIAR-Algoritmos-de-optimizaci-n/blob/main/AG1/Algoritmos_Sandra_Navarrete_AG1.ipynb\" target=\"_parent\"><img src=\"https://colab.research.google.com/assets/colab-badge.svg\" alt=\"Open In Colab\"/></a>"
      ]
    },
    {
      "cell_type": "markdown",
      "metadata": {
        "id": "GG2D6vLdYwwy"
      },
      "source": [
        "Actividad Guiada 1 de Algoritmos de Optimizacion\n",
        "\n",
        "Nombre: Sandra Navarrete\n",
        "\n",
        "https://colab.research.google.com/drive/1dPUHjYq7GFovk6ZMc1ZX1r4AO336ty_z?usp=sharing\n",
        "\n",
        "https://github.com/Sandra1875/-03MIAR-Algoritmos-de-optimizaci-n/tree/main/AG1/Algoritmos_Sandra_Navarrete_AG1.ipynb\n"
      ]
    },
    {
      "cell_type": "code",
      "metadata": {
        "id": "rTiqLuX2ZKuL",
        "colab": {
          "base_uri": "https://localhost:8080/"
        },
        "outputId": "258a9a5e-4307-4880-efd0-e51ee0d02ebc"
      },
      "source": [
        "#Torres de Hanoi - Divide y venceras\n",
        "################################################################################\n",
        "\n",
        "################################################################\n",
        "def Torres_Hanoi(N, desde, hasta):\n",
        "# N - no de fichas\n",
        "# desde\n",
        "# hasta\n",
        "  if N==1:\n",
        "    print(\"mueve desde \", desde, \" hasta \", hasta)\n",
        "  else:\n",
        "    Torres_Hanoi(N-1, desde, 6 - desde - hasta)\n",
        "    print(\"mueve desde \", desde, \" hasta \", hasta)\n",
        "    Torres_Hanoi(N-1, 6 - desde - hasta, hasta)\n",
        "\n",
        "################################################################\n",
        "\n",
        "Torres_Hanoi(4, 1, 3)"
      ],
      "execution_count": null,
      "outputs": [
        {
          "output_type": "stream",
          "text": [
            "mueve desde  1  hasta  2\n",
            "mueve desde  1  hasta  3\n",
            "mueve desde  2  hasta  3\n",
            "mueve desde  1  hasta  2\n",
            "mueve desde  3  hasta  1\n",
            "mueve desde  3  hasta  2\n",
            "mueve desde  1  hasta  2\n",
            "mueve desde  1  hasta  3\n",
            "mueve desde  2  hasta  3\n",
            "mueve desde  2  hasta  1\n",
            "mueve desde  3  hasta  1\n",
            "mueve desde  2  hasta  3\n",
            "mueve desde  1  hasta  2\n",
            "mueve desde  1  hasta  3\n",
            "mueve desde  2  hasta  3\n"
          ],
          "name": "stdout"
        }
      ]
    },
    {
      "cell_type": "code",
      "metadata": {
        "id": "UTL6wiczQVDA"
      },
      "source": [
        ""
      ],
      "execution_count": null,
      "outputs": []
    },
    {
      "cell_type": "code",
      "metadata": {
        "id": "YwBudj2hYoMR",
        "colab": {
          "base_uri": "https://localhost:8080/"
        },
        "outputId": "6878d695-8f18-4790-c1f3-ecd43a08df08"
      },
      "source": [
        "#Cambio de monedas - Técnica voraz\n",
        "################################################################################\n",
        "\n",
        "################################################################\n",
        "def cambio_monedas(CANTIDAD,SISTEMA):\n",
        "#....\n",
        "  valor_acumulado =0\n",
        "  solucion =[0 for i in range(len(SISTEMA))] \n",
        "  for i in range(len(SISTEMA)):\n",
        "    monedas =(CANTIDAD -valor_acumulado ) // SISTEMA[i]\n",
        "    solucion[i] = monedas\n",
        "    valor_acumulado +=  SISTEMA[i] * monedas\n",
        "    if valor_acumulado == CANTIDAD:\n",
        "      return solucion\n",
        "  if valor_acumulado != CANTIDAD:\n",
        "    print(\"No hay solución\")\n",
        "  else:\n",
        "    return solucion\n",
        "\n",
        "\n",
        "SISTEMA = sorted([500, 100, 25, 10, 5, 1], reverse = True)\n",
        "cambio_monedas(87425, SISTEMA)\n",
        "################################################################\n",
        "\n"
      ],
      "execution_count": null,
      "outputs": [
        {
          "output_type": "execute_result",
          "data": {
            "text/plain": [
              "[174, 4, 1, 0, 0, 0]"
            ]
          },
          "metadata": {
            "tags": []
          },
          "execution_count": 2
        }
      ]
    },
    {
      "cell_type": "code",
      "metadata": {
        "id": "9toJ4WjhQUNj"
      },
      "source": [
        ""
      ],
      "execution_count": null,
      "outputs": []
    },
    {
      "cell_type": "code",
      "metadata": {
        "id": "H4Iwt2XRZTFr"
      },
      "source": [
        "#N Reinas - Vuelta Atrás()\n",
        "################################################################################\n",
        "\n",
        "#Verifica que en la solución parcial no hay amenzas entre reinas\n",
        "################################################################\n",
        "def es_prometedora(SOLUCION,etapa):\n",
        "################################################################\n",
        "  #Si la solución tiene dos valores iguales no es valida => Dos reinas en la misma fila\n",
        "  for i in range(etapa+1):\n",
        "    if SOLUCION.count(SOLUCION[i]) > 1:       \n",
        "      return False\n",
        "  \n",
        "    #Verifica las diagonales\n",
        "    for j in range(i+1, etapa +1 ):\n",
        "      #print(\"Comprobando diagonal de \" + str(i) + \" y \" + str(j))\n",
        "      if abs(i-j) == abs(SOLUCION[i]-SOLUCION[j]) : return False\n",
        "  return True\n",
        "\n",
        "#Traduce la solución al tablero\n",
        "################################################################\n",
        "def escribe_solucion(S):\n",
        "################################################################\n",
        "  n = len(S)\n",
        "  for x in range(n):\n",
        "    print(\"\")\n",
        "    for i in range(n):\n",
        "      if S[i] == x+1:\n",
        "        print(\" X \" , end=\"\")\n",
        "      else:\n",
        "        print(\" - \", end=\"\")\n",
        "\n",
        "\n",
        "\n",
        "#Proceso principal de N-Reinas\n",
        "################################################################\n",
        "def reinas(N,solucion=[],etapa=0): \n",
        "  if len(solucion)==0:\n",
        "    solucion = [0 for i in range(N)]\n",
        "  for i in range (1, N+1):\n",
        "    solucion[etapa] =i\n",
        "    if es_prometedora(solucion, etapa):\n",
        "      if etapa ==N-1:\n",
        "        print(\"\\n\\nLa solucion es: \")\n",
        "        print(solucion)\n",
        "        escribe_solucion(solucion)\n",
        "      else:\n",
        "        reinas(N, solucion, etapa +1)\n",
        "    else:\n",
        "      None\n",
        "    solucion[etapa] =0\n",
        "\n"
      ],
      "execution_count": null,
      "outputs": []
    },
    {
      "cell_type": "code",
      "metadata": {
        "id": "eTZclKH9QV0R",
        "colab": {
          "base_uri": "https://localhost:8080/"
        },
        "outputId": "d094da7e-a191-490c-b383-2ba941ea7421"
      },
      "source": [
        "reinas(4)"
      ],
      "execution_count": null,
      "outputs": [
        {
          "output_type": "stream",
          "text": [
            "\n",
            "\n",
            "La solucion es: \n",
            "[2, 4, 1, 3]\n",
            "\n",
            " -  -  X  - \n",
            " X  -  -  - \n",
            " -  -  -  X \n",
            " -  X  -  - \n",
            "\n",
            "La solucion es: \n",
            "[3, 1, 4, 2]\n",
            "\n",
            " -  X  -  - \n",
            " -  -  -  X \n",
            " X  -  -  - \n",
            " -  -  X  - "
          ],
          "name": "stdout"
        }
      ]
    },
    {
      "cell_type": "code",
      "metadata": {
        "id": "iPcgVSMabXrU",
        "colab": {
          "base_uri": "https://localhost:8080/",
          "height": 354
        },
        "outputId": "26cfe15a-6fb0-4069-cefa-28b494daf878"
      },
      "source": [
        "#Viaje por el rio - Programación dinámica\n",
        "################################################################################\n",
        "\n",
        "TARIFAS = [\n",
        "[0,5,4,3,999,999,999],\n",
        "[999,0,999,2,3,999,11],\n",
        "[999,999, 0,1,999,4,10],\n",
        "[999,999,999, 0,5,6,9],\n",
        "[999,999, 999,999,0,999,4],\n",
        "[999,999, 999,999,999,0,3],\n",
        "[999,999,999,999,999,999,0]\n",
        "]\n",
        "\n",
        "#999 se puede sustituir por float(\"inf\")\n",
        "\n",
        "\n",
        "#Calculo de la matriz de PRECIOS y RUTAS\n",
        "################################################################  \n",
        "def Precios(Tarifas):\n",
        "################################################################ \n",
        "  N= len(Tarifas[0])\n",
        "  Precios =[[999]*N for i in [9999] * N]\n",
        "  Ruta = [[\"\"]*N for i in [\"\"] *N]\n",
        "  for i in range(N-1):\n",
        "    for j in range(i+1, N):\n",
        "      Min = Tarifas[i][j]\n",
        "      Ruta[i][j] = i\n",
        "      for k in range(i, j):\n",
        "        if Precios[i][k] + Tarifas[k][j]< Min:\n",
        "          Min = min(Min, Precios[i][k] + Tarifas[k][j])\n",
        "          Ruta[i][j] = k\n",
        "        Precios[i][j] = Min\n",
        "  return Precios, Ruta\n",
        "\n",
        "\n",
        "def calcular_ruta(Ruta, desde, hasta):\n",
        "  if desde == hasta:\n",
        "    return desde\n",
        "  else:\n",
        "    return str(calcular_ruta(Ruta, desde, Ruta[desde][hasta])) + ' , ' + str(Ruta[desde][hasta])\n",
        "\n",
        "\n",
        "PRECIOS,RUTA = Precios(TARIFAS)  \n",
        "#print(PRECIOS[0][6])\n",
        "\n",
        "print(\"PRECIOS\")\n",
        "for i in range(len(TARIFAS)):\n",
        "  print(PRECIOS[i])\n",
        "\n",
        "print(\"\\nRUTA\")  \n",
        "for i in range(len(TARIFAS)):\n",
        "  print(RUTA[i])  \n",
        "  \n",
        "print(\"\\nLa ruta es:\")  \n",
        "calcular_ruta(RUTA, 0,6) "
      ],
      "execution_count": null,
      "outputs": [
        {
          "output_type": "stream",
          "text": [
            "PRECIOS\n",
            "[999, 5, 4, 3, 8, 8, 11]\n",
            "[999, 999, 999, 2, 3, 8, 7]\n",
            "[999, 999, 999, 1, 6, 4, 7]\n",
            "[999, 999, 999, 999, 5, 6, 9]\n",
            "[999, 999, 999, 999, 999, 999, 4]\n",
            "[999, 999, 999, 999, 999, 999, 3]\n",
            "[999, 999, 999, 999, 999, 999, 999]\n",
            "\n",
            "RUTA\n",
            "['', 0, 0, 0, 1, 2, 5]\n",
            "['', '', 1, 1, 1, 3, 4]\n",
            "['', '', '', 2, 3, 2, 5]\n",
            "['', '', '', '', 3, 3, 3]\n",
            "['', '', '', '', '', 4, 4]\n",
            "['', '', '', '', '', '', 5]\n",
            "['', '', '', '', '', '', '']\n",
            "\n",
            "La ruta es:\n"
          ],
          "name": "stdout"
        },
        {
          "output_type": "execute_result",
          "data": {
            "application/vnd.google.colaboratory.intrinsic+json": {
              "type": "string"
            },
            "text/plain": [
              "'0 , 0 , 2 , 5'"
            ]
          },
          "metadata": {
            "tags": []
          },
          "execution_count": 23
        }
      ]
    },
    {
      "cell_type": "code",
      "metadata": {
        "id": "TocxR55dQWq5"
      },
      "source": [
        ""
      ],
      "execution_count": null,
      "outputs": []
    }
  ]
}