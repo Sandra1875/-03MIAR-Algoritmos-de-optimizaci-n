{
  "nbformat": 4,
  "nbformat_minor": 0,
  "metadata": {
    "colab": {
      "name": "Copia de Algoritmos-Sandra Navarrete-Seminario-segunda-convocatoria.ipynb",
      "provenance": [],
      "collapsed_sections": [],
      "include_colab_link": true
    },
    "kernelspec": {
      "name": "python3",
      "display_name": "Python 3"
    }
  },
  "cells": [
    {
      "cell_type": "markdown",
      "metadata": {
        "id": "view-in-github",
        "colab_type": "text"
      },
      "source": [
        "<a href=\"https://colab.research.google.com/github/Sandra1875/-03MIAR-Algoritmos-de-optimizaci-n/blob/main/Copia_de_Algoritmos_Sandra_Navarrete_Seminario_segunda_convocatoria.ipynb\" target=\"_parent\"><img src=\"https://colab.research.google.com/assets/colab-badge.svg\" alt=\"Open In Colab\"/></a>"
      ]
    },
    {
      "cell_type": "markdown",
      "metadata": {
        "id": "hVbXYX-RfPWh"
      },
      "source": [
        "# Algoritmos de optimización - Seminario<br>\n",
        "Nombre y Apellidos:  SANDRA MARIANELA NAVARRETE PINTO <br>\n",
        "Url: https://github.com/Sandra1875/-03MIAR-Algoritmos-de-optimizaci-n/blob/main/trabajo/Algoritmos_Sandra_Navarrete_Seminario.ipynb\n",
        "\n",
        "Colab: https://colab.research.google.com/drive/12WnSHOh94t-k_Woje5GURGc5RwPg7PEO?usp=sharing\n",
        "\n",
        "Problema:\n",
        "**> 1. Sesiones de doblaje <br>**\n",
        "\n",
        "Descripción del problema:<br>\n",
        "Se precisa coordinar el doblaje de una película. Los actores del doblaje deben coincidir en las tomas en las que sus personajes aparecen juntos en las diferentes tomas. Los actores de doblaje cobran todos la misma cantidad por cada día que deben desplazarse hasta el estudio de grabación independientemente del número de tomas que se graben. No es posible grabar más de 6 tomas por día. El objetivo es planificar las sesiones por día de manera que el gasto por los\n",
        "servicios de los actores de doblaje sea el menor posible. <br>Los datos son:<br>\n",
        "**Número de actores:** 10<br>\n",
        "**Número de tomas :** 30<br>\n",
        "**Actores/Tomas :**<br>\n",
        "1 indica que el actor participa en la toma; \n",
        "0 en caso contrario\n",
        "                                       "
      ]
    },
    {
      "cell_type": "code",
      "metadata": {
        "id": "AiskKkzZfy4e"
      },
      "source": [
        "import pandas as pd\n",
        "# creamos el dataframe con los datos de los actores y las tomas\n",
        "toma1= [(1, 1, 1, 1, 1, 0, 0, 0, 0, 0 )]\n",
        "Tomas_df = pd.DataFrame(toma1, columns = [\"1\",\"2\",\"3\",\"4\",\"5\", \"6\",\"7\", \"8\", \"9\", \"10\"])\n",
        "Tomas_df.loc[1]=[0, 0, 1, 1, 1, 0, 0, 0, 0, 0 ]\n",
        "Tomas_df.loc[2]=[0, 1, 0, 0, 1, 0, 1, 0, 0, 0 ]\n",
        "Tomas_df.loc[3]=[1, 1, 0, 0, 0, 0, 1, 1, 0, 0 ]\n",
        "Tomas_df.loc[4]=[0, 1, 0, 1, 0, 0, 0, 1, 0, 0 ]\n",
        "Tomas_df.loc[5]=[1, 1, 0, 1, 1, 0, 0, 0, 0, 0 ]\n",
        "Tomas_df.loc[6]=[1, 1, 0, 1, 1, 0, 0, 0, 0, 0 ]\n",
        "Tomas_df.loc[7]=[1, 1, 0, 0, 0, 1, 0, 0, 0, 0 ]\n",
        "Tomas_df.loc[8]=[1, 1, 0, 1, 0, 0, 0, 0, 0, 0 ]\n",
        "Tomas_df.loc[9]=[1, 1, 0, 0, 0, 1, 0, 0, 1, 0 ]\n",
        "Tomas_df.loc[10]=[1, 1, 1, 0, 1, 0, 0, 1, 0, 0 ]\n",
        "Tomas_df.loc[11]=[1, 1, 1, 1, 0, 1, 0, 0, 0, 0 ]\n",
        "Tomas_df.loc[12]=[1, 0, 0, 1, 1, 0, 0, 0, 0, 0 ]\n",
        "Tomas_df.loc[13]=[1, 0, 1, 0, 0, 1, 0, 0, 0, 0 ]\n",
        "Tomas_df.loc[14]=[1, 1, 0, 0, 0, 0, 1, 0, 0, 0 ]\n",
        "Tomas_df.loc[15]=[0, 0, 0, 1, 0, 0, 0, 0, 0, 1 ]\n",
        "Tomas_df.loc[16]=[1, 0, 1, 0, 0, 0, 0, 0, 0, 0 ]\n",
        "Tomas_df.loc[17]=[0, 0, 1, 0, 0, 1, 0, 0, 0, 0 ]\n",
        "Tomas_df.loc[18]=[1, 0, 1, 0, 0, 0, 0, 0, 0, 0 ]\n",
        "Tomas_df.loc[19]=[1, 0, 1, 1, 1, 0, 0, 0, 0, 0 ]\n",
        "Tomas_df.loc[20]=[0, 0, 0, 0, 0, 1, 0, 1, 0, 0 ]\n",
        "Tomas_df.loc[21]=[1, 1, 1, 1, 0, 0, 0, 0, 0, 0 ]\n",
        "Tomas_df.loc[22]=[1, 0, 1, 0, 0, 0, 0, 0, 0, 0 ]\n",
        "Tomas_df.loc[23]=[0, 0, 1, 0, 0, 1, 0, 0, 0, 0 ]\n",
        "Tomas_df.loc[24]=[1, 1, 0, 1, 0, 0, 0, 0, 0, 1 ]\n",
        "Tomas_df.loc[25]=[1, 0, 1, 0, 1, 0, 0, 0, 1, 0 ]\n",
        "Tomas_df.loc[26]=[0, 0, 0, 1, 1, 0, 0, 0, 0, 0 ]\n",
        "Tomas_df.loc[27]=[1, 0, 0, 1, 0, 0, 0, 0, 0, 0 ]\n",
        "Tomas_df.loc[28]=[1, 0, 0, 0, 1, 1, 0, 0, 0, 0 ]\n",
        "Tomas_df.loc[29]=[1, 0, 0, 1, 0, 0, 0, 0, 0, 0 ]"
      ],
      "execution_count": 2,
      "outputs": []
    },
    {
      "cell_type": "markdown",
      "metadata": {
        "id": "RATWK3JPKUVy"
      },
      "source": [
        "**(*) Cuantas posibilidades hay sin tener en cuenta las restricciones?**<br>Respuesta:"
      ]
    },
    {
      "cell_type": "markdown",
      "metadata": {
        "id": "r6zOu8qX8-EM"
      },
      "source": [
        "Si no hay restricciones sobre cuantas tomas se pueden realizar diariamente tenemos que del conjunto de 30 tomas; tomamos **k** elementos donde k varia de 1 a 30. Este caso se trata de una combinación sin repetición, y el **número de posibilidades** es:  <br> \n",
        "$\\sum _{k=1}^n\\left[\\frac{n!}{k!\\cdot \\left(n-k\\right)!}\\right]$\n",
        "<br>\n",
        "$\\sum _{k=1}^{30}\\left[\\frac{30!}{k!\\cdot \\left(30-k\\right)!}\\right]$ = $\\left[\\frac{30!}{1!\\cdot \\left(30-1\\right)!}\\:+\\frac{30!}{2!\\cdot \\:\\left(30-2\\right)!}+...+\\frac{30!}{30!\\cdot \\:\\left(30-30\\right)!}\\:\\right]$\n"
      ]
    },
    {
      "cell_type": "markdown",
      "metadata": {
        "id": "GkRH-7ss-e04"
      },
      "source": [
        "**¿Cuantas posibilidades hay teniendo en cuenta todas las restricciones.**<br>Respuesta:\n",
        "<br>La **restricción** es que se puede rodar máximo 6 tomas por día (k=tomas por día), entonces k varía entre 1 y 6.  Si busca el menor gasto posible y considerando que los costos de doblaje por día son independientes del número de tomas, se optimiza costos al realizar el máximo número de tomas en cada día (6 tomas en 5 días). El problema corresponde a una combinación sin repetición, donde de 30 tomas se elige conjuntos de 6 tomas por día. Teniendo en cuenta que no se puede elegir más de una vez una toma; y que, el orden de elección de tomas en un día no importa. <br> El **NP_1** número de posibilidades para el primer día es:$\\frac{30!}{6!\\cdot \\:\\:\\left(30-6\\right)!} = 593.775$ <br>\n",
        "Para los siguientes días (del 2 al 5), se quita de las tomas, las que ya fueron seleccionadas para los días anteriores, y se realiza la combinación tomando conjuntos de 6 elementos, dando como resultado que: \n",
        "<br> El **NP_2** número de posibilidades para el segundo día es:$\\frac{24!}{6!\\cdot \\:\\:\\left(24-6\\right)!} = 134.596$ <br>\n",
        "<br> El **NP_3** número de posibilidades para el tercer día es:$\\frac{18!}{6!\\cdot \\:\\:\\left(18-6\\right)!} = 18.564$ <br>\n",
        "<br> El **NP_4** número de posibilidades para el cuarto día es:$\\frac{12!}{6!\\cdot \\:\\:\\left(12-6\\right)!} = 924$ <br>\n",
        "<br> El **NP_5** número de posibilidades para el quinto día es:$\\frac{6!}{6!\\cdot \\:\\:\\left(6-6\\right)!} = 1$ <br> \n",
        "En total el número de posibilidades es:<br> **NP** = NP_1 * NP_2 * NP_3 * NP_4 * NP_5 = 593.775 * 134.596 * 18.564 * 924 * 1 = **1,37087e^18**\n"
      ]
    },
    {
      "cell_type": "markdown",
      "metadata": {
        "id": "dzynfVJahHoY"
      },
      "source": [
        "**Modelo para el espacio de soluciones**<br>\n",
        "(*) ¿Cual es la estructura de datos que mejor se adapta al problema? Argumentalo.(Es posible que hayas elegido una al principio y veas la necesidad de cambiar, argumentalo)\n"
      ]
    },
    {
      "cell_type": "markdown",
      "metadata": {
        "id": "xFIJrOwKi2Ti"
      },
      "source": [
        "Respuesta:\n",
        "<br> La estructura de datos para guardar el espacio de soluciones podría ser un vector de 6 posiciones, en el cual guardamos la toma que se va a rodar ese día; o mejor aún, una lista de 6 columnas y 5 filas; donde cada fila representa el No de día y las columnas representan las tomas que se realizan ese día.\n",
        "<br>Matriz= List[6,5]"
      ]
    },
    {
      "cell_type": "markdown",
      "metadata": {
        "id": "7Z9U2W7bi-XS"
      },
      "source": [
        "Según el modelo para el espacio de soluciones<br>\n",
        "**(*)¿Cual es la función objetivo?**"
      ]
    },
    {
      "cell_type": "markdown",
      "metadata": {
        "id": "hBalWLM7j1_d"
      },
      "source": [
        "Respuesta\n",
        "<br>La función objetivo es encontrar la combinación para los 5 días de seis tomas a filmar en un mismo día, de forma que el costo de los actores involucrados en las 6 tomas de los 5 días sea el menor posible, considerando que a los actores se les paga por día y no por número de tomas."
      ]
    },
    {
      "cell_type": "markdown",
      "metadata": {
        "id": "KuytgyzBUMyw"
      },
      "source": [
        "**(*)¿Es un problema de maximización o minimización?**"
      ]
    },
    {
      "cell_type": "markdown",
      "metadata": {
        "id": "cRp_FEvHVicE"
      },
      "source": [
        "Respuesta:\n",
        "<br>Es un problema de minimización de costos, es decir encontrar el valor mínimo a pagar por los días que van al estudio los actores involucrados en las tomas de ese día."
      ]
    },
    {
      "cell_type": "markdown",
      "metadata": {
        "id": "rlnTYgY1j6I2"
      },
      "source": [
        "**Diseña un algoritmo para resolver el problema por fuerza bruta**"
      ]
    },
    {
      "cell_type": "markdown",
      "metadata": {
        "id": "70rDgxYXkC8r"
      },
      "source": [
        "Respuesta"
      ]
    },
    {
      "cell_type": "code",
      "metadata": {
        "id": "gDXl5ZghRwaK"
      },
      "source": [
        "import numpy as np\n",
        "import itertools as i"
      ],
      "execution_count": 3,
      "outputs": []
    },
    {
      "cell_type": "markdown",
      "metadata": {
        "id": "piY4u94MIard"
      },
      "source": [
        "La función Calcular_Costo, se encarga de calcular por día cuantos actores están involucrados en las 6 tomas elegidas, y finalmente sumar la cantidad de actores para los 5 días. "
      ]
    },
    {
      "cell_type": "code",
      "metadata": {
        "id": "mft_dxZQqnZn"
      },
      "source": [
        "def Calcular_Costo(Matriz):\n",
        "  # calculemos el costo \n",
        "  No_actores_diario=0\n",
        "  No_actores_total=0\n",
        "  for i in range(5):\n",
        "    Actores = Tomas_df.iloc[Matriz[i]]\n",
        "    for k in range(9):\n",
        "      Cantidad_actor = Actores.iloc[:,k:k+1].sum()\n",
        "      if(Cantidad_actor.iloc[0]>0):\n",
        "        No_actores_diario+=1\n",
        "    No_actores_total+=No_actores_diario\n",
        "    No_actores_diario=0\n",
        "  return No_actores_total"
      ],
      "execution_count": 4,
      "outputs": []
    },
    {
      "cell_type": "markdown",
      "metadata": {
        "id": "cHCEj9M-JIwc"
      },
      "source": [
        "La función tomas_diarias, utiliza el generador yield. En Python, los generadores son funciones que tienen la capacidad de producir series de valores y que pueden ser pausadas para recuperar más tarde el control de la ejecución.  El generador usado en tomas_diarias está definido mediante la lista de valores que devuelve el método combinations de la librería itertools. \n",
        "<br>Declaración del generador x1 para las combinaciones de las 30 tomas. \n",
        "<br>todas = {0,1,2,3,4,5,6,7,8,9,10,11,12,13,14,15,16,17,18,19,20, 21, 22, 23, 24, 25, 26, 27, 28, 29}\n",
        "<br>dia1 = tomas_diarias(todas)\n",
        "<br>Al invocar al método next(dia1), se obtendrá el primer conjunto de combinaciones de 6 tomas para el día 1.  Y al ejecutar nuevamente next(dia1), se obtendrá el siguiente conjunto de la combinación.\n",
        "\n"
      ]
    },
    {
      "cell_type": "code",
      "metadata": {
        "id": "j84ToQVsQtbR"
      },
      "source": [
        "# Uso del generador yield para devolver una lista de las 6 tomas elegidas de la combinación enviada como parámetro\n",
        "def tomas_diarias(tomas):\n",
        "   for tomas_elegidas in list(i.combinations(tomas, 6)):\n",
        "        yield tomas_elegidas"
      ],
      "execution_count": 5,
      "outputs": []
    },
    {
      "cell_type": "markdown",
      "metadata": {
        "id": "LtFRGXSqM1Rh"
      },
      "source": [
        "El método Genera_tomas_diarias explora todas las posibles combinaciones para lo cual recibe como parámetro una lista de tomas, y un generador con el cual obtiene el siguiente conjunto de 6 tomas para el día 1, luego retira estas tomas de la lista de tomas y crea los generadores para las tomas de los siguientes 4 días. Se construye la Matriz con las tomas seleccionadas para los 5 días y se devuelve la Matriz como resultado. "
      ]
    },
    {
      "cell_type": "code",
      "metadata": {
        "id": "jMtQ-4SXu6xY"
      },
      "source": [
        "def Genera_tomas_diarias(tomas, x1):\n",
        "  Matriz = np.full((5,6),0)\n",
        "  dia_1 = next(x1)\n",
        "  tomas_restantes = tomas - set(dia_1)\n",
        "  Matriz[0]=dia_1\n",
        "  # para los otros cuatro (4) dias\n",
        "  for dia in range(4):\n",
        "    x2 = tomas_diarias(tomas_restantes)\n",
        "    dias_2 = next(x2)\n",
        "    tomas_restantes = tomas_restantes - set(dias_2)\n",
        "    Matriz[dia+1]=dias_2\n",
        "  return Matriz"
      ],
      "execution_count": 6,
      "outputs": []
    },
    {
      "cell_type": "markdown",
      "metadata": {
        "id": "qeQH6zEaOgZy"
      },
      "source": [
        "El método Fuerza_Bruta, recibe como parámetro el número de iteraciones que se va a ejecutar la construcción de la matriz de tomas diarias mediante el método Genera_tomas_diarias. De la matriz obtenida se calcula el costo, si el costo es menor al mejor costo, se coloca como mejor costo el costo actual y se guarda la matriz con la mejor distribución de tomas por día. Al finalizar el número de iteraciones se retorna la mejor solución.  "
      ]
    },
    {
      "cell_type": "code",
      "metadata": {
        "id": "0DpNrcy02dxT"
      },
      "source": [
        "def Fuerza_Bruta(NoIntentos):\n",
        "  MejorCosto =10e10\n",
        "  MejorSolucion =[]\n",
        "  #conjunto de tomas disponibles\n",
        "  todas = {0,1,2,3,4,5,6,7,8,9,10,11,12,13,14,15,16,17,18,19,20, 21, 22, 23, 24 , 25, 26, 27, 28, 29}\n",
        "  #declaramos el selector de las tomas del dia 1\n",
        "  x1 = tomas_diarias(todas)\n",
        "  for i in range(NoIntentos):\n",
        "    Distribucion= Genera_tomas_diarias(todas, x1)\n",
        "    Costo = Calcular_Costo(Distribucion)\n",
        "    # funcion objetivo, encontrar la combinacion con el menor costo.\n",
        "    if (Costo < MejorCosto):\n",
        "      MejorCosto= Costo\n",
        "      MejorSolucion = Distribucion\n",
        "    display(\"iteración:\" + str(i) + \" Costo Actual: \" + str(Costo) + \" Mejor Costo : \" + str(MejorCosto))\n",
        "  return MejorCosto"
      ],
      "execution_count": 7,
      "outputs": []
    },
    {
      "cell_type": "markdown",
      "metadata": {
        "id": "qqSfN0D_Pw4V"
      },
      "source": [
        "Se mide el tiempo que tarda en ejecutarse el algoritmo de fuerza bruta con cien (100) iteraciones; se visualiza el costo calculado para la matriz actual, y el mejor costo obtenido hasta ese momento. "
      ]
    },
    {
      "cell_type": "code",
      "metadata": {
        "colab": {
          "base_uri": "https://localhost:8080/",
          "height": 1000
        },
        "id": "uB4Vluou5Q3e",
        "outputId": "28f39de2-99db-440b-a317-2323aacf3af9"
      },
      "source": [
        "from time import time\n",
        "Algoritmos = {}\n",
        "tiempo_inicio = time()\n",
        "# Ejecucion del algoritmo po Fuerza Bruta\n",
        "Solucion= Fuerza_Bruta(100)\n",
        "tiempo_transcurrido = time() - tiempo_inicio\n",
        "print(\"Tiempo Transcurrido : %0.10f segundos.\" % tiempo_transcurrido)\n",
        "Algoritmos[\"Fuerza Bruta: Tiempo\"]= tiempo_transcurrido\n",
        "Algoritmos[\"Fuerza Bruta: Costo\"]= Solucion"
      ],
      "execution_count": 8,
      "outputs": [
        {
          "output_type": "display_data",
          "data": {
            "application/vnd.google.colaboratory.intrinsic+json": {
              "type": "string"
            },
            "text/plain": [
              "'iteración:0 Costo Actual: 36 Mejor Costo : 36'"
            ]
          },
          "metadata": {}
        },
        {
          "output_type": "display_data",
          "data": {
            "application/vnd.google.colaboratory.intrinsic+json": {
              "type": "string"
            },
            "text/plain": [
              "'iteración:1 Costo Actual: 36 Mejor Costo : 36'"
            ]
          },
          "metadata": {}
        },
        {
          "output_type": "display_data",
          "data": {
            "application/vnd.google.colaboratory.intrinsic+json": {
              "type": "string"
            },
            "text/plain": [
              "'iteración:2 Costo Actual: 37 Mejor Costo : 36'"
            ]
          },
          "metadata": {}
        },
        {
          "output_type": "display_data",
          "data": {
            "application/vnd.google.colaboratory.intrinsic+json": {
              "type": "string"
            },
            "text/plain": [
              "'iteración:3 Costo Actual: 36 Mejor Costo : 36'"
            ]
          },
          "metadata": {}
        },
        {
          "output_type": "display_data",
          "data": {
            "application/vnd.google.colaboratory.intrinsic+json": {
              "type": "string"
            },
            "text/plain": [
              "'iteración:4 Costo Actual: 37 Mejor Costo : 36'"
            ]
          },
          "metadata": {}
        },
        {
          "output_type": "display_data",
          "data": {
            "application/vnd.google.colaboratory.intrinsic+json": {
              "type": "string"
            },
            "text/plain": [
              "'iteración:5 Costo Actual: 35 Mejor Costo : 35'"
            ]
          },
          "metadata": {}
        },
        {
          "output_type": "display_data",
          "data": {
            "application/vnd.google.colaboratory.intrinsic+json": {
              "type": "string"
            },
            "text/plain": [
              "'iteración:6 Costo Actual: 37 Mejor Costo : 35'"
            ]
          },
          "metadata": {}
        },
        {
          "output_type": "display_data",
          "data": {
            "application/vnd.google.colaboratory.intrinsic+json": {
              "type": "string"
            },
            "text/plain": [
              "'iteración:7 Costo Actual: 35 Mejor Costo : 35'"
            ]
          },
          "metadata": {}
        },
        {
          "output_type": "display_data",
          "data": {
            "application/vnd.google.colaboratory.intrinsic+json": {
              "type": "string"
            },
            "text/plain": [
              "'iteración:8 Costo Actual: 37 Mejor Costo : 35'"
            ]
          },
          "metadata": {}
        },
        {
          "output_type": "display_data",
          "data": {
            "application/vnd.google.colaboratory.intrinsic+json": {
              "type": "string"
            },
            "text/plain": [
              "'iteración:9 Costo Actual: 35 Mejor Costo : 35'"
            ]
          },
          "metadata": {}
        },
        {
          "output_type": "display_data",
          "data": {
            "application/vnd.google.colaboratory.intrinsic+json": {
              "type": "string"
            },
            "text/plain": [
              "'iteración:10 Costo Actual: 36 Mejor Costo : 35'"
            ]
          },
          "metadata": {}
        },
        {
          "output_type": "display_data",
          "data": {
            "application/vnd.google.colaboratory.intrinsic+json": {
              "type": "string"
            },
            "text/plain": [
              "'iteración:11 Costo Actual: 36 Mejor Costo : 35'"
            ]
          },
          "metadata": {}
        },
        {
          "output_type": "display_data",
          "data": {
            "application/vnd.google.colaboratory.intrinsic+json": {
              "type": "string"
            },
            "text/plain": [
              "'iteración:12 Costo Actual: 37 Mejor Costo : 35'"
            ]
          },
          "metadata": {}
        },
        {
          "output_type": "display_data",
          "data": {
            "application/vnd.google.colaboratory.intrinsic+json": {
              "type": "string"
            },
            "text/plain": [
              "'iteración:13 Costo Actual: 36 Mejor Costo : 35'"
            ]
          },
          "metadata": {}
        },
        {
          "output_type": "display_data",
          "data": {
            "application/vnd.google.colaboratory.intrinsic+json": {
              "type": "string"
            },
            "text/plain": [
              "'iteración:14 Costo Actual: 35 Mejor Costo : 35'"
            ]
          },
          "metadata": {}
        },
        {
          "output_type": "display_data",
          "data": {
            "application/vnd.google.colaboratory.intrinsic+json": {
              "type": "string"
            },
            "text/plain": [
              "'iteración:15 Costo Actual: 36 Mejor Costo : 35'"
            ]
          },
          "metadata": {}
        },
        {
          "output_type": "display_data",
          "data": {
            "application/vnd.google.colaboratory.intrinsic+json": {
              "type": "string"
            },
            "text/plain": [
              "'iteración:16 Costo Actual: 35 Mejor Costo : 35'"
            ]
          },
          "metadata": {}
        },
        {
          "output_type": "display_data",
          "data": {
            "application/vnd.google.colaboratory.intrinsic+json": {
              "type": "string"
            },
            "text/plain": [
              "'iteración:17 Costo Actual: 36 Mejor Costo : 35'"
            ]
          },
          "metadata": {}
        },
        {
          "output_type": "display_data",
          "data": {
            "application/vnd.google.colaboratory.intrinsic+json": {
              "type": "string"
            },
            "text/plain": [
              "'iteración:18 Costo Actual: 37 Mejor Costo : 35'"
            ]
          },
          "metadata": {}
        },
        {
          "output_type": "display_data",
          "data": {
            "application/vnd.google.colaboratory.intrinsic+json": {
              "type": "string"
            },
            "text/plain": [
              "'iteración:19 Costo Actual: 35 Mejor Costo : 35'"
            ]
          },
          "metadata": {}
        },
        {
          "output_type": "display_data",
          "data": {
            "application/vnd.google.colaboratory.intrinsic+json": {
              "type": "string"
            },
            "text/plain": [
              "'iteración:20 Costo Actual: 36 Mejor Costo : 35'"
            ]
          },
          "metadata": {}
        },
        {
          "output_type": "display_data",
          "data": {
            "application/vnd.google.colaboratory.intrinsic+json": {
              "type": "string"
            },
            "text/plain": [
              "'iteración:21 Costo Actual: 36 Mejor Costo : 35'"
            ]
          },
          "metadata": {}
        },
        {
          "output_type": "display_data",
          "data": {
            "application/vnd.google.colaboratory.intrinsic+json": {
              "type": "string"
            },
            "text/plain": [
              "'iteración:22 Costo Actual: 36 Mejor Costo : 35'"
            ]
          },
          "metadata": {}
        },
        {
          "output_type": "display_data",
          "data": {
            "application/vnd.google.colaboratory.intrinsic+json": {
              "type": "string"
            },
            "text/plain": [
              "'iteración:23 Costo Actual: 37 Mejor Costo : 35'"
            ]
          },
          "metadata": {}
        },
        {
          "output_type": "display_data",
          "data": {
            "application/vnd.google.colaboratory.intrinsic+json": {
              "type": "string"
            },
            "text/plain": [
              "'iteración:24 Costo Actual: 36 Mejor Costo : 35'"
            ]
          },
          "metadata": {}
        },
        {
          "output_type": "display_data",
          "data": {
            "application/vnd.google.colaboratory.intrinsic+json": {
              "type": "string"
            },
            "text/plain": [
              "'iteración:25 Costo Actual: 36 Mejor Costo : 35'"
            ]
          },
          "metadata": {}
        },
        {
          "output_type": "display_data",
          "data": {
            "application/vnd.google.colaboratory.intrinsic+json": {
              "type": "string"
            },
            "text/plain": [
              "'iteración:26 Costo Actual: 37 Mejor Costo : 35'"
            ]
          },
          "metadata": {}
        },
        {
          "output_type": "display_data",
          "data": {
            "application/vnd.google.colaboratory.intrinsic+json": {
              "type": "string"
            },
            "text/plain": [
              "'iteración:27 Costo Actual: 36 Mejor Costo : 35'"
            ]
          },
          "metadata": {}
        },
        {
          "output_type": "display_data",
          "data": {
            "application/vnd.google.colaboratory.intrinsic+json": {
              "type": "string"
            },
            "text/plain": [
              "'iteración:28 Costo Actual: 37 Mejor Costo : 35'"
            ]
          },
          "metadata": {}
        },
        {
          "output_type": "display_data",
          "data": {
            "application/vnd.google.colaboratory.intrinsic+json": {
              "type": "string"
            },
            "text/plain": [
              "'iteración:29 Costo Actual: 36 Mejor Costo : 35'"
            ]
          },
          "metadata": {}
        },
        {
          "output_type": "display_data",
          "data": {
            "application/vnd.google.colaboratory.intrinsic+json": {
              "type": "string"
            },
            "text/plain": [
              "'iteración:30 Costo Actual: 37 Mejor Costo : 35'"
            ]
          },
          "metadata": {}
        },
        {
          "output_type": "display_data",
          "data": {
            "application/vnd.google.colaboratory.intrinsic+json": {
              "type": "string"
            },
            "text/plain": [
              "'iteración:31 Costo Actual: 35 Mejor Costo : 35'"
            ]
          },
          "metadata": {}
        },
        {
          "output_type": "display_data",
          "data": {
            "application/vnd.google.colaboratory.intrinsic+json": {
              "type": "string"
            },
            "text/plain": [
              "'iteración:32 Costo Actual: 37 Mejor Costo : 35'"
            ]
          },
          "metadata": {}
        },
        {
          "output_type": "display_data",
          "data": {
            "application/vnd.google.colaboratory.intrinsic+json": {
              "type": "string"
            },
            "text/plain": [
              "'iteración:33 Costo Actual: 35 Mejor Costo : 35'"
            ]
          },
          "metadata": {}
        },
        {
          "output_type": "display_data",
          "data": {
            "application/vnd.google.colaboratory.intrinsic+json": {
              "type": "string"
            },
            "text/plain": [
              "'iteración:34 Costo Actual: 36 Mejor Costo : 35'"
            ]
          },
          "metadata": {}
        },
        {
          "output_type": "display_data",
          "data": {
            "application/vnd.google.colaboratory.intrinsic+json": {
              "type": "string"
            },
            "text/plain": [
              "'iteración:35 Costo Actual: 36 Mejor Costo : 35'"
            ]
          },
          "metadata": {}
        },
        {
          "output_type": "display_data",
          "data": {
            "application/vnd.google.colaboratory.intrinsic+json": {
              "type": "string"
            },
            "text/plain": [
              "'iteración:36 Costo Actual: 37 Mejor Costo : 35'"
            ]
          },
          "metadata": {}
        },
        {
          "output_type": "display_data",
          "data": {
            "application/vnd.google.colaboratory.intrinsic+json": {
              "type": "string"
            },
            "text/plain": [
              "'iteración:37 Costo Actual: 36 Mejor Costo : 35'"
            ]
          },
          "metadata": {}
        },
        {
          "output_type": "display_data",
          "data": {
            "application/vnd.google.colaboratory.intrinsic+json": {
              "type": "string"
            },
            "text/plain": [
              "'iteración:38 Costo Actual: 35 Mejor Costo : 35'"
            ]
          },
          "metadata": {}
        },
        {
          "output_type": "display_data",
          "data": {
            "application/vnd.google.colaboratory.intrinsic+json": {
              "type": "string"
            },
            "text/plain": [
              "'iteración:39 Costo Actual: 36 Mejor Costo : 35'"
            ]
          },
          "metadata": {}
        },
        {
          "output_type": "display_data",
          "data": {
            "application/vnd.google.colaboratory.intrinsic+json": {
              "type": "string"
            },
            "text/plain": [
              "'iteración:40 Costo Actual: 35 Mejor Costo : 35'"
            ]
          },
          "metadata": {}
        },
        {
          "output_type": "display_data",
          "data": {
            "application/vnd.google.colaboratory.intrinsic+json": {
              "type": "string"
            },
            "text/plain": [
              "'iteración:41 Costo Actual: 36 Mejor Costo : 35'"
            ]
          },
          "metadata": {}
        },
        {
          "output_type": "display_data",
          "data": {
            "application/vnd.google.colaboratory.intrinsic+json": {
              "type": "string"
            },
            "text/plain": [
              "'iteración:42 Costo Actual: 37 Mejor Costo : 35'"
            ]
          },
          "metadata": {}
        },
        {
          "output_type": "display_data",
          "data": {
            "application/vnd.google.colaboratory.intrinsic+json": {
              "type": "string"
            },
            "text/plain": [
              "'iteración:43 Costo Actual: 35 Mejor Costo : 35'"
            ]
          },
          "metadata": {}
        },
        {
          "output_type": "display_data",
          "data": {
            "application/vnd.google.colaboratory.intrinsic+json": {
              "type": "string"
            },
            "text/plain": [
              "'iteración:44 Costo Actual: 36 Mejor Costo : 35'"
            ]
          },
          "metadata": {}
        },
        {
          "output_type": "display_data",
          "data": {
            "application/vnd.google.colaboratory.intrinsic+json": {
              "type": "string"
            },
            "text/plain": [
              "'iteración:45 Costo Actual: 36 Mejor Costo : 35'"
            ]
          },
          "metadata": {}
        },
        {
          "output_type": "display_data",
          "data": {
            "application/vnd.google.colaboratory.intrinsic+json": {
              "type": "string"
            },
            "text/plain": [
              "'iteración:46 Costo Actual: 36 Mejor Costo : 35'"
            ]
          },
          "metadata": {}
        },
        {
          "output_type": "display_data",
          "data": {
            "application/vnd.google.colaboratory.intrinsic+json": {
              "type": "string"
            },
            "text/plain": [
              "'iteración:47 Costo Actual: 37 Mejor Costo : 35'"
            ]
          },
          "metadata": {}
        },
        {
          "output_type": "display_data",
          "data": {
            "application/vnd.google.colaboratory.intrinsic+json": {
              "type": "string"
            },
            "text/plain": [
              "'iteración:48 Costo Actual: 36 Mejor Costo : 35'"
            ]
          },
          "metadata": {}
        },
        {
          "output_type": "display_data",
          "data": {
            "application/vnd.google.colaboratory.intrinsic+json": {
              "type": "string"
            },
            "text/plain": [
              "'iteración:49 Costo Actual: 37 Mejor Costo : 35'"
            ]
          },
          "metadata": {}
        },
        {
          "output_type": "display_data",
          "data": {
            "application/vnd.google.colaboratory.intrinsic+json": {
              "type": "string"
            },
            "text/plain": [
              "'iteración:50 Costo Actual: 36 Mejor Costo : 35'"
            ]
          },
          "metadata": {}
        },
        {
          "output_type": "display_data",
          "data": {
            "application/vnd.google.colaboratory.intrinsic+json": {
              "type": "string"
            },
            "text/plain": [
              "'iteración:51 Costo Actual: 37 Mejor Costo : 35'"
            ]
          },
          "metadata": {}
        },
        {
          "output_type": "display_data",
          "data": {
            "application/vnd.google.colaboratory.intrinsic+json": {
              "type": "string"
            },
            "text/plain": [
              "'iteración:52 Costo Actual: 36 Mejor Costo : 35'"
            ]
          },
          "metadata": {}
        },
        {
          "output_type": "display_data",
          "data": {
            "application/vnd.google.colaboratory.intrinsic+json": {
              "type": "string"
            },
            "text/plain": [
              "'iteración:53 Costo Actual: 37 Mejor Costo : 35'"
            ]
          },
          "metadata": {}
        },
        {
          "output_type": "display_data",
          "data": {
            "application/vnd.google.colaboratory.intrinsic+json": {
              "type": "string"
            },
            "text/plain": [
              "'iteración:54 Costo Actual: 35 Mejor Costo : 35'"
            ]
          },
          "metadata": {}
        },
        {
          "output_type": "display_data",
          "data": {
            "application/vnd.google.colaboratory.intrinsic+json": {
              "type": "string"
            },
            "text/plain": [
              "'iteración:55 Costo Actual: 37 Mejor Costo : 35'"
            ]
          },
          "metadata": {}
        },
        {
          "output_type": "display_data",
          "data": {
            "application/vnd.google.colaboratory.intrinsic+json": {
              "type": "string"
            },
            "text/plain": [
              "'iteración:56 Costo Actual: 35 Mejor Costo : 35'"
            ]
          },
          "metadata": {}
        },
        {
          "output_type": "display_data",
          "data": {
            "application/vnd.google.colaboratory.intrinsic+json": {
              "type": "string"
            },
            "text/plain": [
              "'iteración:57 Costo Actual: 36 Mejor Costo : 35'"
            ]
          },
          "metadata": {}
        },
        {
          "output_type": "display_data",
          "data": {
            "application/vnd.google.colaboratory.intrinsic+json": {
              "type": "string"
            },
            "text/plain": [
              "'iteración:58 Costo Actual: 36 Mejor Costo : 35'"
            ]
          },
          "metadata": {}
        },
        {
          "output_type": "display_data",
          "data": {
            "application/vnd.google.colaboratory.intrinsic+json": {
              "type": "string"
            },
            "text/plain": [
              "'iteración:59 Costo Actual: 37 Mejor Costo : 35'"
            ]
          },
          "metadata": {}
        },
        {
          "output_type": "display_data",
          "data": {
            "application/vnd.google.colaboratory.intrinsic+json": {
              "type": "string"
            },
            "text/plain": [
              "'iteración:60 Costo Actual: 36 Mejor Costo : 35'"
            ]
          },
          "metadata": {}
        },
        {
          "output_type": "display_data",
          "data": {
            "application/vnd.google.colaboratory.intrinsic+json": {
              "type": "string"
            },
            "text/plain": [
              "'iteración:61 Costo Actual: 35 Mejor Costo : 35'"
            ]
          },
          "metadata": {}
        },
        {
          "output_type": "display_data",
          "data": {
            "application/vnd.google.colaboratory.intrinsic+json": {
              "type": "string"
            },
            "text/plain": [
              "'iteración:62 Costo Actual: 36 Mejor Costo : 35'"
            ]
          },
          "metadata": {}
        },
        {
          "output_type": "display_data",
          "data": {
            "application/vnd.google.colaboratory.intrinsic+json": {
              "type": "string"
            },
            "text/plain": [
              "'iteración:63 Costo Actual: 35 Mejor Costo : 35'"
            ]
          },
          "metadata": {}
        },
        {
          "output_type": "display_data",
          "data": {
            "application/vnd.google.colaboratory.intrinsic+json": {
              "type": "string"
            },
            "text/plain": [
              "'iteración:64 Costo Actual: 36 Mejor Costo : 35'"
            ]
          },
          "metadata": {}
        },
        {
          "output_type": "display_data",
          "data": {
            "application/vnd.google.colaboratory.intrinsic+json": {
              "type": "string"
            },
            "text/plain": [
              "'iteración:65 Costo Actual: 37 Mejor Costo : 35'"
            ]
          },
          "metadata": {}
        },
        {
          "output_type": "display_data",
          "data": {
            "application/vnd.google.colaboratory.intrinsic+json": {
              "type": "string"
            },
            "text/plain": [
              "'iteración:66 Costo Actual: 35 Mejor Costo : 35'"
            ]
          },
          "metadata": {}
        },
        {
          "output_type": "display_data",
          "data": {
            "application/vnd.google.colaboratory.intrinsic+json": {
              "type": "string"
            },
            "text/plain": [
              "'iteración:67 Costo Actual: 36 Mejor Costo : 35'"
            ]
          },
          "metadata": {}
        },
        {
          "output_type": "display_data",
          "data": {
            "application/vnd.google.colaboratory.intrinsic+json": {
              "type": "string"
            },
            "text/plain": [
              "'iteración:68 Costo Actual: 36 Mejor Costo : 35'"
            ]
          },
          "metadata": {}
        },
        {
          "output_type": "display_data",
          "data": {
            "application/vnd.google.colaboratory.intrinsic+json": {
              "type": "string"
            },
            "text/plain": [
              "'iteración:69 Costo Actual: 36 Mejor Costo : 35'"
            ]
          },
          "metadata": {}
        },
        {
          "output_type": "display_data",
          "data": {
            "application/vnd.google.colaboratory.intrinsic+json": {
              "type": "string"
            },
            "text/plain": [
              "'iteración:70 Costo Actual: 37 Mejor Costo : 35'"
            ]
          },
          "metadata": {}
        },
        {
          "output_type": "display_data",
          "data": {
            "application/vnd.google.colaboratory.intrinsic+json": {
              "type": "string"
            },
            "text/plain": [
              "'iteración:71 Costo Actual: 36 Mejor Costo : 35'"
            ]
          },
          "metadata": {}
        },
        {
          "output_type": "display_data",
          "data": {
            "application/vnd.google.colaboratory.intrinsic+json": {
              "type": "string"
            },
            "text/plain": [
              "'iteración:72 Costo Actual: 37 Mejor Costo : 35'"
            ]
          },
          "metadata": {}
        },
        {
          "output_type": "display_data",
          "data": {
            "application/vnd.google.colaboratory.intrinsic+json": {
              "type": "string"
            },
            "text/plain": [
              "'iteración:73 Costo Actual: 37 Mejor Costo : 35'"
            ]
          },
          "metadata": {}
        },
        {
          "output_type": "display_data",
          "data": {
            "application/vnd.google.colaboratory.intrinsic+json": {
              "type": "string"
            },
            "text/plain": [
              "'iteración:74 Costo Actual: 37 Mejor Costo : 35'"
            ]
          },
          "metadata": {}
        },
        {
          "output_type": "display_data",
          "data": {
            "application/vnd.google.colaboratory.intrinsic+json": {
              "type": "string"
            },
            "text/plain": [
              "'iteración:75 Costo Actual: 37 Mejor Costo : 35'"
            ]
          },
          "metadata": {}
        },
        {
          "output_type": "display_data",
          "data": {
            "application/vnd.google.colaboratory.intrinsic+json": {
              "type": "string"
            },
            "text/plain": [
              "'iteración:76 Costo Actual: 36 Mejor Costo : 35'"
            ]
          },
          "metadata": {}
        },
        {
          "output_type": "display_data",
          "data": {
            "application/vnd.google.colaboratory.intrinsic+json": {
              "type": "string"
            },
            "text/plain": [
              "'iteración:77 Costo Actual: 37 Mejor Costo : 35'"
            ]
          },
          "metadata": {}
        },
        {
          "output_type": "display_data",
          "data": {
            "application/vnd.google.colaboratory.intrinsic+json": {
              "type": "string"
            },
            "text/plain": [
              "'iteración:78 Costo Actual: 36 Mejor Costo : 35'"
            ]
          },
          "metadata": {}
        },
        {
          "output_type": "display_data",
          "data": {
            "application/vnd.google.colaboratory.intrinsic+json": {
              "type": "string"
            },
            "text/plain": [
              "'iteración:79 Costo Actual: 37 Mejor Costo : 35'"
            ]
          },
          "metadata": {}
        },
        {
          "output_type": "display_data",
          "data": {
            "application/vnd.google.colaboratory.intrinsic+json": {
              "type": "string"
            },
            "text/plain": [
              "'iteración:80 Costo Actual: 37 Mejor Costo : 35'"
            ]
          },
          "metadata": {}
        },
        {
          "output_type": "display_data",
          "data": {
            "application/vnd.google.colaboratory.intrinsic+json": {
              "type": "string"
            },
            "text/plain": [
              "'iteración:81 Costo Actual: 37 Mejor Costo : 35'"
            ]
          },
          "metadata": {}
        },
        {
          "output_type": "display_data",
          "data": {
            "application/vnd.google.colaboratory.intrinsic+json": {
              "type": "string"
            },
            "text/plain": [
              "'iteración:82 Costo Actual: 37 Mejor Costo : 35'"
            ]
          },
          "metadata": {}
        },
        {
          "output_type": "display_data",
          "data": {
            "application/vnd.google.colaboratory.intrinsic+json": {
              "type": "string"
            },
            "text/plain": [
              "'iteración:83 Costo Actual: 36 Mejor Costo : 35'"
            ]
          },
          "metadata": {}
        },
        {
          "output_type": "display_data",
          "data": {
            "application/vnd.google.colaboratory.intrinsic+json": {
              "type": "string"
            },
            "text/plain": [
              "'iteración:84 Costo Actual: 36 Mejor Costo : 35'"
            ]
          },
          "metadata": {}
        },
        {
          "output_type": "display_data",
          "data": {
            "application/vnd.google.colaboratory.intrinsic+json": {
              "type": "string"
            },
            "text/plain": [
              "'iteración:85 Costo Actual: 36 Mejor Costo : 35'"
            ]
          },
          "metadata": {}
        },
        {
          "output_type": "display_data",
          "data": {
            "application/vnd.google.colaboratory.intrinsic+json": {
              "type": "string"
            },
            "text/plain": [
              "'iteración:86 Costo Actual: 37 Mejor Costo : 35'"
            ]
          },
          "metadata": {}
        },
        {
          "output_type": "display_data",
          "data": {
            "application/vnd.google.colaboratory.intrinsic+json": {
              "type": "string"
            },
            "text/plain": [
              "'iteración:87 Costo Actual: 37 Mejor Costo : 35'"
            ]
          },
          "metadata": {}
        },
        {
          "output_type": "display_data",
          "data": {
            "application/vnd.google.colaboratory.intrinsic+json": {
              "type": "string"
            },
            "text/plain": [
              "'iteración:88 Costo Actual: 36 Mejor Costo : 35'"
            ]
          },
          "metadata": {}
        },
        {
          "output_type": "display_data",
          "data": {
            "application/vnd.google.colaboratory.intrinsic+json": {
              "type": "string"
            },
            "text/plain": [
              "'iteración:89 Costo Actual: 37 Mejor Costo : 35'"
            ]
          },
          "metadata": {}
        },
        {
          "output_type": "display_data",
          "data": {
            "application/vnd.google.colaboratory.intrinsic+json": {
              "type": "string"
            },
            "text/plain": [
              "'iteración:90 Costo Actual: 37 Mejor Costo : 35'"
            ]
          },
          "metadata": {}
        },
        {
          "output_type": "display_data",
          "data": {
            "application/vnd.google.colaboratory.intrinsic+json": {
              "type": "string"
            },
            "text/plain": [
              "'iteración:91 Costo Actual: 37 Mejor Costo : 35'"
            ]
          },
          "metadata": {}
        },
        {
          "output_type": "display_data",
          "data": {
            "application/vnd.google.colaboratory.intrinsic+json": {
              "type": "string"
            },
            "text/plain": [
              "'iteración:92 Costo Actual: 37 Mejor Costo : 35'"
            ]
          },
          "metadata": {}
        },
        {
          "output_type": "display_data",
          "data": {
            "application/vnd.google.colaboratory.intrinsic+json": {
              "type": "string"
            },
            "text/plain": [
              "'iteración:93 Costo Actual: 37 Mejor Costo : 35'"
            ]
          },
          "metadata": {}
        },
        {
          "output_type": "display_data",
          "data": {
            "application/vnd.google.colaboratory.intrinsic+json": {
              "type": "string"
            },
            "text/plain": [
              "'iteración:94 Costo Actual: 37 Mejor Costo : 35'"
            ]
          },
          "metadata": {}
        },
        {
          "output_type": "display_data",
          "data": {
            "application/vnd.google.colaboratory.intrinsic+json": {
              "type": "string"
            },
            "text/plain": [
              "'iteración:95 Costo Actual: 36 Mejor Costo : 35'"
            ]
          },
          "metadata": {}
        },
        {
          "output_type": "display_data",
          "data": {
            "application/vnd.google.colaboratory.intrinsic+json": {
              "type": "string"
            },
            "text/plain": [
              "'iteración:96 Costo Actual: 37 Mejor Costo : 35'"
            ]
          },
          "metadata": {}
        },
        {
          "output_type": "display_data",
          "data": {
            "application/vnd.google.colaboratory.intrinsic+json": {
              "type": "string"
            },
            "text/plain": [
              "'iteración:97 Costo Actual: 35 Mejor Costo : 35'"
            ]
          },
          "metadata": {}
        },
        {
          "output_type": "display_data",
          "data": {
            "application/vnd.google.colaboratory.intrinsic+json": {
              "type": "string"
            },
            "text/plain": [
              "'iteración:98 Costo Actual: 37 Mejor Costo : 35'"
            ]
          },
          "metadata": {}
        },
        {
          "output_type": "display_data",
          "data": {
            "application/vnd.google.colaboratory.intrinsic+json": {
              "type": "string"
            },
            "text/plain": [
              "'iteración:99 Costo Actual: 35 Mejor Costo : 35'"
            ]
          },
          "metadata": {}
        },
        {
          "output_type": "stream",
          "name": "stdout",
          "text": [
            "Tiempo Transcurrido : 6.1367254257 segundos.\n"
          ]
        }
      ]
    },
    {
      "cell_type": "markdown",
      "metadata": {
        "id": "tgrnsC2nkFa8"
      },
      "source": [
        "**Calcula la complejidad del algoritmo por fuerza bruta**"
      ]
    },
    {
      "cell_type": "markdown",
      "metadata": {
        "id": "9eUd3xwckP68"
      },
      "source": [
        "Respuesta\n",
        "<br>N=tamaño de la lista de tomas = 30\n",
        "<br>M= No de actores = 10\n",
        "<br>K= No de tomas diarias = 6\n",
        "<br>P= No intentos Fuerza Bruta = 100<br>\n",
        "1. No operaciones Generar_tomas_diarias\n",
        "*   5 llamados con el generador Next\n",
        "*   5 asignaciones\n",
        "*   5 restas de conjuntos set\n",
        "*   TOTAL= 3*5 =15 operaciones \n",
        "2. No operaciones Calcular Costo\n",
        "*   2 asignaciones\n",
        "*   3 * N/K asignaciones\n",
        "*   2 * N/K * M asignaciones\n",
        "*   N/K * M comparaciones\n",
        "*   N/K * M sumas de la estructura de datos\n",
        "*   TOTAL= 2 + 3(N/K) + 4(N/K*M)\n",
        "3. No operaciones Fuerza_Bruta\n",
        "*   P copiar la estructura de datos\n",
        "*   P*15 generar las tomas diarias\n",
        "*   P*(2 + 3(N/K) + 4(N/K*M)) calcular costo\n",
        "*   P*3 obtener el mejor costo\n",
        "*   TOTAL= P[18+ 3(N/K) + 4(N/K*M)]\n",
        "<br>\n",
        "<br>\n",
        "Complejidad = O(p*n); Orden Lineal, en función del No de intentos del algoritmo de fuerza bruta y el tamaño de las tomas y en menor proporción del numero de actores y el numero de días."
      ]
    },
    {
      "cell_type": "markdown",
      "metadata": {
        "id": "txbrmLmskReM"
      },
      "source": [
        "**(*)Diseña un algoritmo que mejore la complejidad del algortimo por fuerza bruta.** Argumenta porque crees que mejora el algoritmo por fuerza bruta"
      ]
    },
    {
      "cell_type": "markdown",
      "metadata": {
        "id": "hLrVwt5QkZPD"
      },
      "source": [
        "Respuesta\n",
        "<br>\n",
        "El algoritmo Mejor_que_fuerza_bruta utiliza el método de búsqueda en amplitud ya que recorre la matriz de tomas, y adicional utiliza una **heurística** para determinar la forma de llenar la matriz de las 6 tomas para los 5 días. El algoritmo selecciona la primera toma, para el primer día, y luego en función de la toma seleccionada recorre las 29 tomas restantes calculando la heurística que consiste en que tomas comparten los mismos actores que la toma seleccionada, las 5 tomas que mas actores compartan con la primera toma seleccionada, serán ubicadas en la matriz del primer día. Para los siguientes días el proceso es similar, la consideración que hay que tomar en cuenta es que del total de tomas se retira las tomas ya seleccionadas\n",
        "<br>\n",
        "El nuevo algoritmo es mejor que fuerza bruta, ya que no explora las N combinaciones de como llenar las seis tomas para los cinco días y determina cual combinación es mejor luego de calcular el costo, sino que llena la matriz de tomas por día, buscando las tomas que comparten los mismos actores que la primera toma seleccionada."
      ]
    },
    {
      "cell_type": "code",
      "metadata": {
        "id": "m1eyM21Vkabg"
      },
      "source": [
        "def Mejor_que_fuerza_bruta(tomas_disponible):\n",
        "  Matriz = np.full((5,6),0)\n",
        "  # llenamos la matriz por dia, las seis tomas\n",
        "  toma_inicial =0\n",
        "  # para los cinco (5) dias\n",
        "  for dia in range(5):\n",
        "    toma_inicial =tomas_disponible.index[0]\n",
        "    a = tomas_disponible.iloc[toma_inicial:toma_inicial+1,:]\n",
        "    actores_similares = []\n",
        "    # calculamos las tomas que se parecen más a la toma inicial, en función de los actores involucrados.\n",
        "    for i in range(1,len(tomas_disponible)):\n",
        "      b= tomas_disponible.iloc[i:i+1,:]\n",
        "      d = np.logical_not(np.logical_xor(a, b))\n",
        "      cantidad = a[d].count().sum()\n",
        "      actores_similares.append([cantidad, tomas_disponible.index[i]])\n",
        "    actores_similares.sort(reverse=True)\n",
        "    Matriz[dia][0]=toma_inicial \n",
        "    tomas_disponible.drop(toma_inicial, inplace = True)\n",
        "    # tomamos las cinco tomas mejores en comparación con la primera seleccionada\n",
        "    for i in range(5):\n",
        "      Matriz[dia][i+1]=actores_similares[i][1]\n",
        "      tomas_disponible.drop(Matriz[dia][i+1], inplace = True)\n",
        "  return Matriz"
      ],
      "execution_count": 9,
      "outputs": []
    },
    {
      "cell_type": "code",
      "metadata": {
        "colab": {
          "base_uri": "https://localhost:8080/",
          "height": 52
        },
        "id": "G5TYZk1_A-hl",
        "outputId": "d85c411a-4b87-433e-90e4-5db6f755e7e9"
      },
      "source": [
        "tiempo_inicio = time()\n",
        "# Ejecucion del algoritmo po Fuerza Bruta\n",
        "tomas_copy = Tomas_df.copy(deep=True)\n",
        "Solucion= Mejor_que_fuerza_bruta(tomas_copy)\n",
        "Costo = Calcular_Costo(Solucion)\n",
        "display(\"Costo : \" + str(Costo))\n",
        "tiempo_transcurrido = time() - tiempo_inicio\n",
        "print(\"Tiempo Transcurrido : %0.10f segundos.\" % tiempo_transcurrido)\n",
        "Algoritmos[\"BFS con heurística: Tiempo\"]= tiempo_transcurrido\n",
        "Algoritmos[\"BFS con heurística: Costo\"]= Costo"
      ],
      "execution_count": 10,
      "outputs": [
        {
          "output_type": "display_data",
          "data": {
            "application/vnd.google.colaboratory.intrinsic+json": {
              "type": "string"
            },
            "text/plain": [
              "'Costo : 32'"
            ]
          },
          "metadata": {}
        },
        {
          "output_type": "stream",
          "name": "stdout",
          "text": [
            "Tiempo Transcurrido : 0.3821361065 segundos.\n"
          ]
        }
      ]
    },
    {
      "cell_type": "markdown",
      "metadata": {
        "id": "fLXG6qxXVrWc"
      },
      "source": [
        "De los resultados obtenidos podemos concluir que el algoritmo BFS mejorado con una heurística para seleccionar las tomas que comparten la mayor cantidad de actores tiene un coste menor que el algoritmo de fuerza bruta el cual explora las N =100 combinaciones de las tomas, además el tiempo de ejecución es considerablemente menor en el algoritmo BFS mejorado."
      ]
    },
    {
      "cell_type": "code",
      "metadata": {
        "colab": {
          "base_uri": "https://localhost:8080/"
        },
        "id": "Aud6Ds8R4lCN",
        "outputId": "ce2e5fda-c8cd-4e07-ae34-560b516cb51b"
      },
      "source": [
        "print(\"Resultados obtenidos: \")\n",
        "Algoritmos"
      ],
      "execution_count": 12,
      "outputs": [
        {
          "output_type": "stream",
          "name": "stdout",
          "text": [
            "Resultados obtenidos: \n"
          ]
        },
        {
          "output_type": "execute_result",
          "data": {
            "text/plain": [
              "{'BFS con heurística: Costo': 32,\n",
              " 'BFS con heurística: Tiempo': 0.38213610649108887,\n",
              " 'Fuerza Bruta: Costo': 35,\n",
              " 'Fuerza Bruta: Tiempo': 6.136725425720215}"
            ]
          },
          "metadata": {},
          "execution_count": 12
        }
      ]
    },
    {
      "cell_type": "markdown",
      "metadata": {
        "id": "eGDB4K6uk1iN"
      },
      "source": [
        "(*) Calcula la complejidad del algoritmo"
      ]
    },
    {
      "cell_type": "markdown",
      "metadata": {
        "id": "NhpTh_BPk1ms"
      },
      "source": [
        "Respuesta\n",
        "<br>N=tamaño de la lista de tomas = 30\n",
        "<br>M= No de actores = 10\n",
        "<br>K= No de tomas diarias = 6\n",
        "1. No operaciones Calcular Costo\n",
        "*   2 asignaciones\n",
        "*   3 * N/K asignaciones\n",
        "*   2 * N/K * M asignaciones\n",
        "*   N/K * M comparaciones\n",
        "*   N/K * M sumas de la estructura de datos\n",
        "*   TOTAL= 2 + 3(N/K) + 4(N/K*M)\n",
        "2. No operaciones Algoritmos Mejor que Fuerza_Bruta\n",
        "*   1 copiar la estructura de datos\n",
        "*   4 N/K operaciones de asignacion\n",
        "*   4 N/K * N operaciones de comparacion y compuertas logicas sobre la estructura de datos\n",
        "*   N/K ordenamientos de la lista\n",
        "*   N/K asignaciones\n",
        "*   (2 + 3(N/K) + 4(N/K*M)) calcular costo\n",
        "*   TOTAL= 3 + 5(N/K) + 4M(N/K) + 4NK(1 + N)\n",
        "<br>\n",
        "<br>\n",
        "Complejidad = O(n); Orden Lineal, en función del tamaño de las tomas, el numero de actores y el numero de días."
      ]
    },
    {
      "cell_type": "markdown",
      "metadata": {
        "id": "3M6QjTsSkmYe"
      },
      "source": [
        "**Según el problema (y tenga sentido), diseña un juego de datos de entrada aleatorios**"
      ]
    },
    {
      "cell_type": "markdown",
      "metadata": {
        "id": "Jc3_OlyNkvjZ"
      },
      "source": [
        "Respuesta"
      ]
    },
    {
      "cell_type": "code",
      "metadata": {
        "id": "sJ-N2etjkyWc"
      },
      "source": [
        "def Llenar_tomas_aletorias():\n",
        "  Toma = np.random.randint(2, size=(30,10))\n",
        "  Lista_Tomas = pd.DataFrame(Toma, columns = [\"1\",\"2\",\"3\",\"4\",\"5\", \"6\",\"7\", \"8\", \"9\", \"10\"])\n",
        "  return Lista_Tomas"
      ],
      "execution_count": 13,
      "outputs": []
    },
    {
      "cell_type": "code",
      "metadata": {
        "colab": {
          "base_uri": "https://localhost:8080/",
          "height": 973
        },
        "id": "xIGq5fS6OC-p",
        "outputId": "7b18fc71-7502-434c-81b4-04cc22ee5d35"
      },
      "source": [
        "display(Llenar_tomas_aletorias())"
      ],
      "execution_count": 14,
      "outputs": [
        {
          "output_type": "display_data",
          "data": {
            "text/html": [
              "<div>\n",
              "<style scoped>\n",
              "    .dataframe tbody tr th:only-of-type {\n",
              "        vertical-align: middle;\n",
              "    }\n",
              "\n",
              "    .dataframe tbody tr th {\n",
              "        vertical-align: top;\n",
              "    }\n",
              "\n",
              "    .dataframe thead th {\n",
              "        text-align: right;\n",
              "    }\n",
              "</style>\n",
              "<table border=\"1\" class=\"dataframe\">\n",
              "  <thead>\n",
              "    <tr style=\"text-align: right;\">\n",
              "      <th></th>\n",
              "      <th>1</th>\n",
              "      <th>2</th>\n",
              "      <th>3</th>\n",
              "      <th>4</th>\n",
              "      <th>5</th>\n",
              "      <th>6</th>\n",
              "      <th>7</th>\n",
              "      <th>8</th>\n",
              "      <th>9</th>\n",
              "      <th>10</th>\n",
              "    </tr>\n",
              "  </thead>\n",
              "  <tbody>\n",
              "    <tr>\n",
              "      <th>0</th>\n",
              "      <td>0</td>\n",
              "      <td>0</td>\n",
              "      <td>0</td>\n",
              "      <td>0</td>\n",
              "      <td>1</td>\n",
              "      <td>0</td>\n",
              "      <td>1</td>\n",
              "      <td>0</td>\n",
              "      <td>1</td>\n",
              "      <td>0</td>\n",
              "    </tr>\n",
              "    <tr>\n",
              "      <th>1</th>\n",
              "      <td>1</td>\n",
              "      <td>0</td>\n",
              "      <td>1</td>\n",
              "      <td>0</td>\n",
              "      <td>1</td>\n",
              "      <td>0</td>\n",
              "      <td>1</td>\n",
              "      <td>0</td>\n",
              "      <td>1</td>\n",
              "      <td>1</td>\n",
              "    </tr>\n",
              "    <tr>\n",
              "      <th>2</th>\n",
              "      <td>0</td>\n",
              "      <td>1</td>\n",
              "      <td>0</td>\n",
              "      <td>1</td>\n",
              "      <td>1</td>\n",
              "      <td>1</td>\n",
              "      <td>0</td>\n",
              "      <td>1</td>\n",
              "      <td>1</td>\n",
              "      <td>1</td>\n",
              "    </tr>\n",
              "    <tr>\n",
              "      <th>3</th>\n",
              "      <td>0</td>\n",
              "      <td>1</td>\n",
              "      <td>1</td>\n",
              "      <td>1</td>\n",
              "      <td>0</td>\n",
              "      <td>0</td>\n",
              "      <td>1</td>\n",
              "      <td>1</td>\n",
              "      <td>1</td>\n",
              "      <td>0</td>\n",
              "    </tr>\n",
              "    <tr>\n",
              "      <th>4</th>\n",
              "      <td>0</td>\n",
              "      <td>1</td>\n",
              "      <td>1</td>\n",
              "      <td>1</td>\n",
              "      <td>1</td>\n",
              "      <td>0</td>\n",
              "      <td>0</td>\n",
              "      <td>0</td>\n",
              "      <td>1</td>\n",
              "      <td>0</td>\n",
              "    </tr>\n",
              "    <tr>\n",
              "      <th>5</th>\n",
              "      <td>1</td>\n",
              "      <td>1</td>\n",
              "      <td>0</td>\n",
              "      <td>0</td>\n",
              "      <td>1</td>\n",
              "      <td>1</td>\n",
              "      <td>0</td>\n",
              "      <td>0</td>\n",
              "      <td>0</td>\n",
              "      <td>0</td>\n",
              "    </tr>\n",
              "    <tr>\n",
              "      <th>6</th>\n",
              "      <td>0</td>\n",
              "      <td>0</td>\n",
              "      <td>0</td>\n",
              "      <td>1</td>\n",
              "      <td>1</td>\n",
              "      <td>0</td>\n",
              "      <td>0</td>\n",
              "      <td>1</td>\n",
              "      <td>1</td>\n",
              "      <td>1</td>\n",
              "    </tr>\n",
              "    <tr>\n",
              "      <th>7</th>\n",
              "      <td>1</td>\n",
              "      <td>0</td>\n",
              "      <td>1</td>\n",
              "      <td>1</td>\n",
              "      <td>1</td>\n",
              "      <td>0</td>\n",
              "      <td>1</td>\n",
              "      <td>0</td>\n",
              "      <td>1</td>\n",
              "      <td>0</td>\n",
              "    </tr>\n",
              "    <tr>\n",
              "      <th>8</th>\n",
              "      <td>1</td>\n",
              "      <td>0</td>\n",
              "      <td>1</td>\n",
              "      <td>1</td>\n",
              "      <td>1</td>\n",
              "      <td>0</td>\n",
              "      <td>1</td>\n",
              "      <td>1</td>\n",
              "      <td>0</td>\n",
              "      <td>0</td>\n",
              "    </tr>\n",
              "    <tr>\n",
              "      <th>9</th>\n",
              "      <td>0</td>\n",
              "      <td>1</td>\n",
              "      <td>0</td>\n",
              "      <td>0</td>\n",
              "      <td>0</td>\n",
              "      <td>1</td>\n",
              "      <td>1</td>\n",
              "      <td>1</td>\n",
              "      <td>1</td>\n",
              "      <td>1</td>\n",
              "    </tr>\n",
              "    <tr>\n",
              "      <th>10</th>\n",
              "      <td>0</td>\n",
              "      <td>1</td>\n",
              "      <td>1</td>\n",
              "      <td>0</td>\n",
              "      <td>1</td>\n",
              "      <td>1</td>\n",
              "      <td>1</td>\n",
              "      <td>1</td>\n",
              "      <td>1</td>\n",
              "      <td>1</td>\n",
              "    </tr>\n",
              "    <tr>\n",
              "      <th>11</th>\n",
              "      <td>1</td>\n",
              "      <td>1</td>\n",
              "      <td>1</td>\n",
              "      <td>0</td>\n",
              "      <td>0</td>\n",
              "      <td>0</td>\n",
              "      <td>1</td>\n",
              "      <td>1</td>\n",
              "      <td>1</td>\n",
              "      <td>0</td>\n",
              "    </tr>\n",
              "    <tr>\n",
              "      <th>12</th>\n",
              "      <td>1</td>\n",
              "      <td>0</td>\n",
              "      <td>1</td>\n",
              "      <td>0</td>\n",
              "      <td>1</td>\n",
              "      <td>0</td>\n",
              "      <td>1</td>\n",
              "      <td>0</td>\n",
              "      <td>0</td>\n",
              "      <td>1</td>\n",
              "    </tr>\n",
              "    <tr>\n",
              "      <th>13</th>\n",
              "      <td>1</td>\n",
              "      <td>0</td>\n",
              "      <td>0</td>\n",
              "      <td>1</td>\n",
              "      <td>0</td>\n",
              "      <td>1</td>\n",
              "      <td>0</td>\n",
              "      <td>0</td>\n",
              "      <td>0</td>\n",
              "      <td>0</td>\n",
              "    </tr>\n",
              "    <tr>\n",
              "      <th>14</th>\n",
              "      <td>0</td>\n",
              "      <td>1</td>\n",
              "      <td>1</td>\n",
              "      <td>0</td>\n",
              "      <td>1</td>\n",
              "      <td>1</td>\n",
              "      <td>0</td>\n",
              "      <td>0</td>\n",
              "      <td>0</td>\n",
              "      <td>0</td>\n",
              "    </tr>\n",
              "    <tr>\n",
              "      <th>15</th>\n",
              "      <td>0</td>\n",
              "      <td>1</td>\n",
              "      <td>0</td>\n",
              "      <td>1</td>\n",
              "      <td>0</td>\n",
              "      <td>0</td>\n",
              "      <td>0</td>\n",
              "      <td>0</td>\n",
              "      <td>0</td>\n",
              "      <td>0</td>\n",
              "    </tr>\n",
              "    <tr>\n",
              "      <th>16</th>\n",
              "      <td>0</td>\n",
              "      <td>1</td>\n",
              "      <td>0</td>\n",
              "      <td>0</td>\n",
              "      <td>0</td>\n",
              "      <td>0</td>\n",
              "      <td>0</td>\n",
              "      <td>1</td>\n",
              "      <td>0</td>\n",
              "      <td>1</td>\n",
              "    </tr>\n",
              "    <tr>\n",
              "      <th>17</th>\n",
              "      <td>0</td>\n",
              "      <td>1</td>\n",
              "      <td>0</td>\n",
              "      <td>1</td>\n",
              "      <td>1</td>\n",
              "      <td>1</td>\n",
              "      <td>0</td>\n",
              "      <td>0</td>\n",
              "      <td>0</td>\n",
              "      <td>0</td>\n",
              "    </tr>\n",
              "    <tr>\n",
              "      <th>18</th>\n",
              "      <td>1</td>\n",
              "      <td>1</td>\n",
              "      <td>1</td>\n",
              "      <td>0</td>\n",
              "      <td>0</td>\n",
              "      <td>0</td>\n",
              "      <td>0</td>\n",
              "      <td>1</td>\n",
              "      <td>0</td>\n",
              "      <td>0</td>\n",
              "    </tr>\n",
              "    <tr>\n",
              "      <th>19</th>\n",
              "      <td>1</td>\n",
              "      <td>0</td>\n",
              "      <td>0</td>\n",
              "      <td>0</td>\n",
              "      <td>0</td>\n",
              "      <td>0</td>\n",
              "      <td>1</td>\n",
              "      <td>1</td>\n",
              "      <td>0</td>\n",
              "      <td>0</td>\n",
              "    </tr>\n",
              "    <tr>\n",
              "      <th>20</th>\n",
              "      <td>0</td>\n",
              "      <td>0</td>\n",
              "      <td>0</td>\n",
              "      <td>1</td>\n",
              "      <td>0</td>\n",
              "      <td>1</td>\n",
              "      <td>1</td>\n",
              "      <td>1</td>\n",
              "      <td>1</td>\n",
              "      <td>0</td>\n",
              "    </tr>\n",
              "    <tr>\n",
              "      <th>21</th>\n",
              "      <td>0</td>\n",
              "      <td>0</td>\n",
              "      <td>1</td>\n",
              "      <td>0</td>\n",
              "      <td>0</td>\n",
              "      <td>1</td>\n",
              "      <td>0</td>\n",
              "      <td>0</td>\n",
              "      <td>0</td>\n",
              "      <td>1</td>\n",
              "    </tr>\n",
              "    <tr>\n",
              "      <th>22</th>\n",
              "      <td>0</td>\n",
              "      <td>1</td>\n",
              "      <td>1</td>\n",
              "      <td>1</td>\n",
              "      <td>0</td>\n",
              "      <td>0</td>\n",
              "      <td>0</td>\n",
              "      <td>0</td>\n",
              "      <td>1</td>\n",
              "      <td>0</td>\n",
              "    </tr>\n",
              "    <tr>\n",
              "      <th>23</th>\n",
              "      <td>0</td>\n",
              "      <td>1</td>\n",
              "      <td>1</td>\n",
              "      <td>0</td>\n",
              "      <td>0</td>\n",
              "      <td>0</td>\n",
              "      <td>1</td>\n",
              "      <td>0</td>\n",
              "      <td>1</td>\n",
              "      <td>1</td>\n",
              "    </tr>\n",
              "    <tr>\n",
              "      <th>24</th>\n",
              "      <td>1</td>\n",
              "      <td>1</td>\n",
              "      <td>0</td>\n",
              "      <td>0</td>\n",
              "      <td>1</td>\n",
              "      <td>0</td>\n",
              "      <td>1</td>\n",
              "      <td>1</td>\n",
              "      <td>1</td>\n",
              "      <td>1</td>\n",
              "    </tr>\n",
              "    <tr>\n",
              "      <th>25</th>\n",
              "      <td>0</td>\n",
              "      <td>1</td>\n",
              "      <td>1</td>\n",
              "      <td>1</td>\n",
              "      <td>0</td>\n",
              "      <td>0</td>\n",
              "      <td>1</td>\n",
              "      <td>0</td>\n",
              "      <td>1</td>\n",
              "      <td>0</td>\n",
              "    </tr>\n",
              "    <tr>\n",
              "      <th>26</th>\n",
              "      <td>0</td>\n",
              "      <td>1</td>\n",
              "      <td>0</td>\n",
              "      <td>0</td>\n",
              "      <td>0</td>\n",
              "      <td>0</td>\n",
              "      <td>0</td>\n",
              "      <td>1</td>\n",
              "      <td>0</td>\n",
              "      <td>1</td>\n",
              "    </tr>\n",
              "    <tr>\n",
              "      <th>27</th>\n",
              "      <td>1</td>\n",
              "      <td>0</td>\n",
              "      <td>1</td>\n",
              "      <td>1</td>\n",
              "      <td>0</td>\n",
              "      <td>1</td>\n",
              "      <td>1</td>\n",
              "      <td>1</td>\n",
              "      <td>0</td>\n",
              "      <td>0</td>\n",
              "    </tr>\n",
              "    <tr>\n",
              "      <th>28</th>\n",
              "      <td>1</td>\n",
              "      <td>0</td>\n",
              "      <td>0</td>\n",
              "      <td>1</td>\n",
              "      <td>0</td>\n",
              "      <td>1</td>\n",
              "      <td>0</td>\n",
              "      <td>0</td>\n",
              "      <td>1</td>\n",
              "      <td>0</td>\n",
              "    </tr>\n",
              "    <tr>\n",
              "      <th>29</th>\n",
              "      <td>1</td>\n",
              "      <td>0</td>\n",
              "      <td>0</td>\n",
              "      <td>1</td>\n",
              "      <td>0</td>\n",
              "      <td>0</td>\n",
              "      <td>1</td>\n",
              "      <td>1</td>\n",
              "      <td>0</td>\n",
              "      <td>0</td>\n",
              "    </tr>\n",
              "  </tbody>\n",
              "</table>\n",
              "</div>"
            ],
            "text/plain": [
              "    1  2  3  4  5  6  7  8  9  10\n",
              "0   0  0  0  0  1  0  1  0  1   0\n",
              "1   1  0  1  0  1  0  1  0  1   1\n",
              "2   0  1  0  1  1  1  0  1  1   1\n",
              "3   0  1  1  1  0  0  1  1  1   0\n",
              "4   0  1  1  1  1  0  0  0  1   0\n",
              "5   1  1  0  0  1  1  0  0  0   0\n",
              "6   0  0  0  1  1  0  0  1  1   1\n",
              "7   1  0  1  1  1  0  1  0  1   0\n",
              "8   1  0  1  1  1  0  1  1  0   0\n",
              "9   0  1  0  0  0  1  1  1  1   1\n",
              "10  0  1  1  0  1  1  1  1  1   1\n",
              "11  1  1  1  0  0  0  1  1  1   0\n",
              "12  1  0  1  0  1  0  1  0  0   1\n",
              "13  1  0  0  1  0  1  0  0  0   0\n",
              "14  0  1  1  0  1  1  0  0  0   0\n",
              "15  0  1  0  1  0  0  0  0  0   0\n",
              "16  0  1  0  0  0  0  0  1  0   1\n",
              "17  0  1  0  1  1  1  0  0  0   0\n",
              "18  1  1  1  0  0  0  0  1  0   0\n",
              "19  1  0  0  0  0  0  1  1  0   0\n",
              "20  0  0  0  1  0  1  1  1  1   0\n",
              "21  0  0  1  0  0  1  0  0  0   1\n",
              "22  0  1  1  1  0  0  0  0  1   0\n",
              "23  0  1  1  0  0  0  1  0  1   1\n",
              "24  1  1  0  0  1  0  1  1  1   1\n",
              "25  0  1  1  1  0  0  1  0  1   0\n",
              "26  0  1  0  0  0  0  0  1  0   1\n",
              "27  1  0  1  1  0  1  1  1  0   0\n",
              "28  1  0  0  1  0  1  0  0  1   0\n",
              "29  1  0  0  1  0  0  1  1  0   0"
            ]
          },
          "metadata": {}
        }
      ]
    },
    {
      "cell_type": "markdown",
      "metadata": {
        "id": "zy5ZROmjlGo1"
      },
      "source": [
        "**Aplica el algoritmo al juego de datos generado**"
      ]
    },
    {
      "cell_type": "markdown",
      "metadata": {
        "id": "_Cmj-PVylMsa"
      },
      "source": [
        "Respuesta"
      ]
    },
    {
      "cell_type": "code",
      "metadata": {
        "id": "Jkx8GeiYlUz1",
        "colab": {
          "base_uri": "https://localhost:8080/",
          "height": 1000
        },
        "outputId": "24a17b75-080d-4f6e-ae74-55cb79cfb6e9"
      },
      "source": [
        "tiempo_inicio = time()\n",
        "# Ejecucion del algoritmo po Fuerza Bruta\n",
        "tomas_copy = Llenar_tomas_aletorias()\n",
        "Solucion= Mejor_que_fuerza_bruta(tomas_copy)\n",
        "Costo = Calcular_Costo(Solucion)\n",
        "display(\"Costo : \" + str(Costo))\n",
        "tiempo_transcurrido = time() - tiempo_inicio\n",
        "print(\"Tiempo Transcurrido : %0.10f segundos.\" % tiempo_transcurrido)\n",
        "display(\"Distribución de tomas por día : \")\n",
        "for dia in range(5):\n",
        "    print(\"Dia No \"+ str(dia+1))\n",
        "    display(Tomas_df.iloc[Solucion[dia,:]])"
      ],
      "execution_count": 15,
      "outputs": [
        {
          "output_type": "display_data",
          "data": {
            "application/vnd.google.colaboratory.intrinsic+json": {
              "type": "string"
            },
            "text/plain": [
              "'Costo : 39'"
            ]
          },
          "metadata": {}
        },
        {
          "output_type": "stream",
          "name": "stdout",
          "text": [
            "Tiempo Transcurrido : 0.2883481979 segundos.\n"
          ]
        },
        {
          "output_type": "display_data",
          "data": {
            "application/vnd.google.colaboratory.intrinsic+json": {
              "type": "string"
            },
            "text/plain": [
              "'Distribución de tomas por día : '"
            ]
          },
          "metadata": {}
        },
        {
          "output_type": "stream",
          "name": "stdout",
          "text": [
            "Dia No 1\n"
          ]
        },
        {
          "output_type": "display_data",
          "data": {
            "text/html": [
              "<div>\n",
              "<style scoped>\n",
              "    .dataframe tbody tr th:only-of-type {\n",
              "        vertical-align: middle;\n",
              "    }\n",
              "\n",
              "    .dataframe tbody tr th {\n",
              "        vertical-align: top;\n",
              "    }\n",
              "\n",
              "    .dataframe thead th {\n",
              "        text-align: right;\n",
              "    }\n",
              "</style>\n",
              "<table border=\"1\" class=\"dataframe\">\n",
              "  <thead>\n",
              "    <tr style=\"text-align: right;\">\n",
              "      <th></th>\n",
              "      <th>1</th>\n",
              "      <th>2</th>\n",
              "      <th>3</th>\n",
              "      <th>4</th>\n",
              "      <th>5</th>\n",
              "      <th>6</th>\n",
              "      <th>7</th>\n",
              "      <th>8</th>\n",
              "      <th>9</th>\n",
              "      <th>10</th>\n",
              "    </tr>\n",
              "  </thead>\n",
              "  <tbody>\n",
              "    <tr>\n",
              "      <th>0</th>\n",
              "      <td>1</td>\n",
              "      <td>1</td>\n",
              "      <td>1</td>\n",
              "      <td>1</td>\n",
              "      <td>1</td>\n",
              "      <td>0</td>\n",
              "      <td>0</td>\n",
              "      <td>0</td>\n",
              "      <td>0</td>\n",
              "      <td>0</td>\n",
              "    </tr>\n",
              "    <tr>\n",
              "      <th>17</th>\n",
              "      <td>0</td>\n",
              "      <td>0</td>\n",
              "      <td>1</td>\n",
              "      <td>0</td>\n",
              "      <td>0</td>\n",
              "      <td>1</td>\n",
              "      <td>0</td>\n",
              "      <td>0</td>\n",
              "      <td>0</td>\n",
              "      <td>0</td>\n",
              "    </tr>\n",
              "    <tr>\n",
              "      <th>16</th>\n",
              "      <td>1</td>\n",
              "      <td>0</td>\n",
              "      <td>1</td>\n",
              "      <td>0</td>\n",
              "      <td>0</td>\n",
              "      <td>0</td>\n",
              "      <td>0</td>\n",
              "      <td>0</td>\n",
              "      <td>0</td>\n",
              "      <td>0</td>\n",
              "    </tr>\n",
              "    <tr>\n",
              "      <th>18</th>\n",
              "      <td>1</td>\n",
              "      <td>0</td>\n",
              "      <td>1</td>\n",
              "      <td>0</td>\n",
              "      <td>0</td>\n",
              "      <td>0</td>\n",
              "      <td>0</td>\n",
              "      <td>0</td>\n",
              "      <td>0</td>\n",
              "      <td>0</td>\n",
              "    </tr>\n",
              "    <tr>\n",
              "      <th>1</th>\n",
              "      <td>0</td>\n",
              "      <td>0</td>\n",
              "      <td>1</td>\n",
              "      <td>1</td>\n",
              "      <td>1</td>\n",
              "      <td>0</td>\n",
              "      <td>0</td>\n",
              "      <td>0</td>\n",
              "      <td>0</td>\n",
              "      <td>0</td>\n",
              "    </tr>\n",
              "    <tr>\n",
              "      <th>29</th>\n",
              "      <td>1</td>\n",
              "      <td>0</td>\n",
              "      <td>0</td>\n",
              "      <td>1</td>\n",
              "      <td>0</td>\n",
              "      <td>0</td>\n",
              "      <td>0</td>\n",
              "      <td>0</td>\n",
              "      <td>0</td>\n",
              "      <td>0</td>\n",
              "    </tr>\n",
              "  </tbody>\n",
              "</table>\n",
              "</div>"
            ],
            "text/plain": [
              "    1  2  3  4  5  6  7  8  9  10\n",
              "0   1  1  1  1  1  0  0  0  0   0\n",
              "17  0  0  1  0  0  1  0  0  0   0\n",
              "16  1  0  1  0  0  0  0  0  0   0\n",
              "18  1  0  1  0  0  0  0  0  0   0\n",
              "1   0  0  1  1  1  0  0  0  0   0\n",
              "29  1  0  0  1  0  0  0  0  0   0"
            ]
          },
          "metadata": {}
        },
        {
          "output_type": "stream",
          "name": "stdout",
          "text": [
            "Dia No 2\n"
          ]
        },
        {
          "output_type": "display_data",
          "data": {
            "text/html": [
              "<div>\n",
              "<style scoped>\n",
              "    .dataframe tbody tr th:only-of-type {\n",
              "        vertical-align: middle;\n",
              "    }\n",
              "\n",
              "    .dataframe tbody tr th {\n",
              "        vertical-align: top;\n",
              "    }\n",
              "\n",
              "    .dataframe thead th {\n",
              "        text-align: right;\n",
              "    }\n",
              "</style>\n",
              "<table border=\"1\" class=\"dataframe\">\n",
              "  <thead>\n",
              "    <tr style=\"text-align: right;\">\n",
              "      <th></th>\n",
              "      <th>1</th>\n",
              "      <th>2</th>\n",
              "      <th>3</th>\n",
              "      <th>4</th>\n",
              "      <th>5</th>\n",
              "      <th>6</th>\n",
              "      <th>7</th>\n",
              "      <th>8</th>\n",
              "      <th>9</th>\n",
              "      <th>10</th>\n",
              "    </tr>\n",
              "  </thead>\n",
              "  <tbody>\n",
              "    <tr>\n",
              "      <th>2</th>\n",
              "      <td>0</td>\n",
              "      <td>1</td>\n",
              "      <td>0</td>\n",
              "      <td>0</td>\n",
              "      <td>1</td>\n",
              "      <td>0</td>\n",
              "      <td>1</td>\n",
              "      <td>0</td>\n",
              "      <td>0</td>\n",
              "      <td>0</td>\n",
              "    </tr>\n",
              "    <tr>\n",
              "      <th>4</th>\n",
              "      <td>0</td>\n",
              "      <td>1</td>\n",
              "      <td>0</td>\n",
              "      <td>1</td>\n",
              "      <td>0</td>\n",
              "      <td>0</td>\n",
              "      <td>0</td>\n",
              "      <td>1</td>\n",
              "      <td>0</td>\n",
              "      <td>0</td>\n",
              "    </tr>\n",
              "    <tr>\n",
              "      <th>27</th>\n",
              "      <td>1</td>\n",
              "      <td>0</td>\n",
              "      <td>0</td>\n",
              "      <td>1</td>\n",
              "      <td>0</td>\n",
              "      <td>0</td>\n",
              "      <td>0</td>\n",
              "      <td>0</td>\n",
              "      <td>0</td>\n",
              "      <td>0</td>\n",
              "    </tr>\n",
              "    <tr>\n",
              "      <th>11</th>\n",
              "      <td>1</td>\n",
              "      <td>1</td>\n",
              "      <td>1</td>\n",
              "      <td>1</td>\n",
              "      <td>0</td>\n",
              "      <td>1</td>\n",
              "      <td>0</td>\n",
              "      <td>0</td>\n",
              "      <td>0</td>\n",
              "      <td>0</td>\n",
              "    </tr>\n",
              "    <tr>\n",
              "      <th>5</th>\n",
              "      <td>1</td>\n",
              "      <td>1</td>\n",
              "      <td>0</td>\n",
              "      <td>1</td>\n",
              "      <td>1</td>\n",
              "      <td>0</td>\n",
              "      <td>0</td>\n",
              "      <td>0</td>\n",
              "      <td>0</td>\n",
              "      <td>0</td>\n",
              "    </tr>\n",
              "    <tr>\n",
              "      <th>22</th>\n",
              "      <td>1</td>\n",
              "      <td>0</td>\n",
              "      <td>1</td>\n",
              "      <td>0</td>\n",
              "      <td>0</td>\n",
              "      <td>0</td>\n",
              "      <td>0</td>\n",
              "      <td>0</td>\n",
              "      <td>0</td>\n",
              "      <td>0</td>\n",
              "    </tr>\n",
              "  </tbody>\n",
              "</table>\n",
              "</div>"
            ],
            "text/plain": [
              "    1  2  3  4  5  6  7  8  9  10\n",
              "2   0  1  0  0  1  0  1  0  0   0\n",
              "4   0  1  0  1  0  0  0  1  0   0\n",
              "27  1  0  0  1  0  0  0  0  0   0\n",
              "11  1  1  1  1  0  1  0  0  0   0\n",
              "5   1  1  0  1  1  0  0  0  0   0\n",
              "22  1  0  1  0  0  0  0  0  0   0"
            ]
          },
          "metadata": {}
        },
        {
          "output_type": "stream",
          "name": "stdout",
          "text": [
            "Dia No 3\n"
          ]
        },
        {
          "output_type": "display_data",
          "data": {
            "text/html": [
              "<div>\n",
              "<style scoped>\n",
              "    .dataframe tbody tr th:only-of-type {\n",
              "        vertical-align: middle;\n",
              "    }\n",
              "\n",
              "    .dataframe tbody tr th {\n",
              "        vertical-align: top;\n",
              "    }\n",
              "\n",
              "    .dataframe thead th {\n",
              "        text-align: right;\n",
              "    }\n",
              "</style>\n",
              "<table border=\"1\" class=\"dataframe\">\n",
              "  <thead>\n",
              "    <tr style=\"text-align: right;\">\n",
              "      <th></th>\n",
              "      <th>1</th>\n",
              "      <th>2</th>\n",
              "      <th>3</th>\n",
              "      <th>4</th>\n",
              "      <th>5</th>\n",
              "      <th>6</th>\n",
              "      <th>7</th>\n",
              "      <th>8</th>\n",
              "      <th>9</th>\n",
              "      <th>10</th>\n",
              "    </tr>\n",
              "  </thead>\n",
              "  <tbody>\n",
              "    <tr>\n",
              "      <th>3</th>\n",
              "      <td>1</td>\n",
              "      <td>1</td>\n",
              "      <td>0</td>\n",
              "      <td>0</td>\n",
              "      <td>0</td>\n",
              "      <td>0</td>\n",
              "      <td>1</td>\n",
              "      <td>1</td>\n",
              "      <td>0</td>\n",
              "      <td>0</td>\n",
              "    </tr>\n",
              "    <tr>\n",
              "      <th>8</th>\n",
              "      <td>1</td>\n",
              "      <td>1</td>\n",
              "      <td>0</td>\n",
              "      <td>1</td>\n",
              "      <td>0</td>\n",
              "      <td>0</td>\n",
              "      <td>0</td>\n",
              "      <td>0</td>\n",
              "      <td>0</td>\n",
              "      <td>0</td>\n",
              "    </tr>\n",
              "    <tr>\n",
              "      <th>12</th>\n",
              "      <td>1</td>\n",
              "      <td>0</td>\n",
              "      <td>0</td>\n",
              "      <td>1</td>\n",
              "      <td>1</td>\n",
              "      <td>0</td>\n",
              "      <td>0</td>\n",
              "      <td>0</td>\n",
              "      <td>0</td>\n",
              "      <td>0</td>\n",
              "    </tr>\n",
              "    <tr>\n",
              "      <th>19</th>\n",
              "      <td>1</td>\n",
              "      <td>0</td>\n",
              "      <td>1</td>\n",
              "      <td>1</td>\n",
              "      <td>1</td>\n",
              "      <td>0</td>\n",
              "      <td>0</td>\n",
              "      <td>0</td>\n",
              "      <td>0</td>\n",
              "      <td>0</td>\n",
              "    </tr>\n",
              "    <tr>\n",
              "      <th>9</th>\n",
              "      <td>1</td>\n",
              "      <td>1</td>\n",
              "      <td>0</td>\n",
              "      <td>0</td>\n",
              "      <td>0</td>\n",
              "      <td>1</td>\n",
              "      <td>0</td>\n",
              "      <td>0</td>\n",
              "      <td>1</td>\n",
              "      <td>0</td>\n",
              "    </tr>\n",
              "    <tr>\n",
              "      <th>6</th>\n",
              "      <td>1</td>\n",
              "      <td>1</td>\n",
              "      <td>0</td>\n",
              "      <td>1</td>\n",
              "      <td>1</td>\n",
              "      <td>0</td>\n",
              "      <td>0</td>\n",
              "      <td>0</td>\n",
              "      <td>0</td>\n",
              "      <td>0</td>\n",
              "    </tr>\n",
              "  </tbody>\n",
              "</table>\n",
              "</div>"
            ],
            "text/plain": [
              "    1  2  3  4  5  6  7  8  9  10\n",
              "3   1  1  0  0  0  0  1  1  0   0\n",
              "8   1  1  0  1  0  0  0  0  0   0\n",
              "12  1  0  0  1  1  0  0  0  0   0\n",
              "19  1  0  1  1  1  0  0  0  0   0\n",
              "9   1  1  0  0  0  1  0  0  1   0\n",
              "6   1  1  0  1  1  0  0  0  0   0"
            ]
          },
          "metadata": {}
        },
        {
          "output_type": "stream",
          "name": "stdout",
          "text": [
            "Dia No 4\n"
          ]
        },
        {
          "output_type": "display_data",
          "data": {
            "text/html": [
              "<div>\n",
              "<style scoped>\n",
              "    .dataframe tbody tr th:only-of-type {\n",
              "        vertical-align: middle;\n",
              "    }\n",
              "\n",
              "    .dataframe tbody tr th {\n",
              "        vertical-align: top;\n",
              "    }\n",
              "\n",
              "    .dataframe thead th {\n",
              "        text-align: right;\n",
              "    }\n",
              "</style>\n",
              "<table border=\"1\" class=\"dataframe\">\n",
              "  <thead>\n",
              "    <tr style=\"text-align: right;\">\n",
              "      <th></th>\n",
              "      <th>1</th>\n",
              "      <th>2</th>\n",
              "      <th>3</th>\n",
              "      <th>4</th>\n",
              "      <th>5</th>\n",
              "      <th>6</th>\n",
              "      <th>7</th>\n",
              "      <th>8</th>\n",
              "      <th>9</th>\n",
              "      <th>10</th>\n",
              "    </tr>\n",
              "  </thead>\n",
              "  <tbody>\n",
              "    <tr>\n",
              "      <th>7</th>\n",
              "      <td>1</td>\n",
              "      <td>1</td>\n",
              "      <td>0</td>\n",
              "      <td>0</td>\n",
              "      <td>0</td>\n",
              "      <td>1</td>\n",
              "      <td>0</td>\n",
              "      <td>0</td>\n",
              "      <td>0</td>\n",
              "      <td>0</td>\n",
              "    </tr>\n",
              "    <tr>\n",
              "      <th>23</th>\n",
              "      <td>0</td>\n",
              "      <td>0</td>\n",
              "      <td>1</td>\n",
              "      <td>0</td>\n",
              "      <td>0</td>\n",
              "      <td>1</td>\n",
              "      <td>0</td>\n",
              "      <td>0</td>\n",
              "      <td>0</td>\n",
              "      <td>0</td>\n",
              "    </tr>\n",
              "    <tr>\n",
              "      <th>24</th>\n",
              "      <td>1</td>\n",
              "      <td>1</td>\n",
              "      <td>0</td>\n",
              "      <td>1</td>\n",
              "      <td>0</td>\n",
              "      <td>0</td>\n",
              "      <td>0</td>\n",
              "      <td>0</td>\n",
              "      <td>0</td>\n",
              "      <td>1</td>\n",
              "    </tr>\n",
              "    <tr>\n",
              "      <th>25</th>\n",
              "      <td>1</td>\n",
              "      <td>0</td>\n",
              "      <td>1</td>\n",
              "      <td>0</td>\n",
              "      <td>1</td>\n",
              "      <td>0</td>\n",
              "      <td>0</td>\n",
              "      <td>0</td>\n",
              "      <td>1</td>\n",
              "      <td>0</td>\n",
              "    </tr>\n",
              "    <tr>\n",
              "      <th>20</th>\n",
              "      <td>0</td>\n",
              "      <td>0</td>\n",
              "      <td>0</td>\n",
              "      <td>0</td>\n",
              "      <td>0</td>\n",
              "      <td>1</td>\n",
              "      <td>0</td>\n",
              "      <td>1</td>\n",
              "      <td>0</td>\n",
              "      <td>0</td>\n",
              "    </tr>\n",
              "    <tr>\n",
              "      <th>28</th>\n",
              "      <td>1</td>\n",
              "      <td>0</td>\n",
              "      <td>0</td>\n",
              "      <td>0</td>\n",
              "      <td>1</td>\n",
              "      <td>1</td>\n",
              "      <td>0</td>\n",
              "      <td>0</td>\n",
              "      <td>0</td>\n",
              "      <td>0</td>\n",
              "    </tr>\n",
              "  </tbody>\n",
              "</table>\n",
              "</div>"
            ],
            "text/plain": [
              "    1  2  3  4  5  6  7  8  9  10\n",
              "7   1  1  0  0  0  1  0  0  0   0\n",
              "23  0  0  1  0  0  1  0  0  0   0\n",
              "24  1  1  0  1  0  0  0  0  0   1\n",
              "25  1  0  1  0  1  0  0  0  1   0\n",
              "20  0  0  0  0  0  1  0  1  0   0\n",
              "28  1  0  0  0  1  1  0  0  0   0"
            ]
          },
          "metadata": {}
        },
        {
          "output_type": "stream",
          "name": "stdout",
          "text": [
            "Dia No 5\n"
          ]
        },
        {
          "output_type": "display_data",
          "data": {
            "text/html": [
              "<div>\n",
              "<style scoped>\n",
              "    .dataframe tbody tr th:only-of-type {\n",
              "        vertical-align: middle;\n",
              "    }\n",
              "\n",
              "    .dataframe tbody tr th {\n",
              "        vertical-align: top;\n",
              "    }\n",
              "\n",
              "    .dataframe thead th {\n",
              "        text-align: right;\n",
              "    }\n",
              "</style>\n",
              "<table border=\"1\" class=\"dataframe\">\n",
              "  <thead>\n",
              "    <tr style=\"text-align: right;\">\n",
              "      <th></th>\n",
              "      <th>1</th>\n",
              "      <th>2</th>\n",
              "      <th>3</th>\n",
              "      <th>4</th>\n",
              "      <th>5</th>\n",
              "      <th>6</th>\n",
              "      <th>7</th>\n",
              "      <th>8</th>\n",
              "      <th>9</th>\n",
              "      <th>10</th>\n",
              "    </tr>\n",
              "  </thead>\n",
              "  <tbody>\n",
              "    <tr>\n",
              "      <th>10</th>\n",
              "      <td>1</td>\n",
              "      <td>1</td>\n",
              "      <td>1</td>\n",
              "      <td>0</td>\n",
              "      <td>1</td>\n",
              "      <td>0</td>\n",
              "      <td>0</td>\n",
              "      <td>1</td>\n",
              "      <td>0</td>\n",
              "      <td>0</td>\n",
              "    </tr>\n",
              "    <tr>\n",
              "      <th>26</th>\n",
              "      <td>0</td>\n",
              "      <td>0</td>\n",
              "      <td>0</td>\n",
              "      <td>1</td>\n",
              "      <td>1</td>\n",
              "      <td>0</td>\n",
              "      <td>0</td>\n",
              "      <td>0</td>\n",
              "      <td>0</td>\n",
              "      <td>0</td>\n",
              "    </tr>\n",
              "    <tr>\n",
              "      <th>21</th>\n",
              "      <td>1</td>\n",
              "      <td>1</td>\n",
              "      <td>1</td>\n",
              "      <td>1</td>\n",
              "      <td>0</td>\n",
              "      <td>0</td>\n",
              "      <td>0</td>\n",
              "      <td>0</td>\n",
              "      <td>0</td>\n",
              "      <td>0</td>\n",
              "    </tr>\n",
              "    <tr>\n",
              "      <th>15</th>\n",
              "      <td>0</td>\n",
              "      <td>0</td>\n",
              "      <td>0</td>\n",
              "      <td>1</td>\n",
              "      <td>0</td>\n",
              "      <td>0</td>\n",
              "      <td>0</td>\n",
              "      <td>0</td>\n",
              "      <td>0</td>\n",
              "      <td>1</td>\n",
              "    </tr>\n",
              "    <tr>\n",
              "      <th>14</th>\n",
              "      <td>1</td>\n",
              "      <td>1</td>\n",
              "      <td>0</td>\n",
              "      <td>0</td>\n",
              "      <td>0</td>\n",
              "      <td>0</td>\n",
              "      <td>1</td>\n",
              "      <td>0</td>\n",
              "      <td>0</td>\n",
              "      <td>0</td>\n",
              "    </tr>\n",
              "    <tr>\n",
              "      <th>13</th>\n",
              "      <td>1</td>\n",
              "      <td>0</td>\n",
              "      <td>1</td>\n",
              "      <td>0</td>\n",
              "      <td>0</td>\n",
              "      <td>1</td>\n",
              "      <td>0</td>\n",
              "      <td>0</td>\n",
              "      <td>0</td>\n",
              "      <td>0</td>\n",
              "    </tr>\n",
              "  </tbody>\n",
              "</table>\n",
              "</div>"
            ],
            "text/plain": [
              "    1  2  3  4  5  6  7  8  9  10\n",
              "10  1  1  1  0  1  0  0  1  0   0\n",
              "26  0  0  0  1  1  0  0  0  0   0\n",
              "21  1  1  1  1  0  0  0  0  0   0\n",
              "15  0  0  0  1  0  0  0  0  0   1\n",
              "14  1  1  0  0  0  0  1  0  0   0\n",
              "13  1  0  1  0  0  1  0  0  0   0"
            ]
          },
          "metadata": {}
        }
      ]
    },
    {
      "cell_type": "markdown",
      "metadata": {
        "id": "eTFWUJQrtGcv"
      },
      "source": [
        "Enumera las referencias que has utilizado(si ha sido necesario) para llevar a cabo el trabajo"
      ]
    },
    {
      "cell_type": "markdown",
      "metadata": {
        "id": "YKQ_mRBttWsP"
      },
      "source": [
        "Respuesta\n",
        "<br>Sitio Oficial de la libreria Numpy\n",
        "<br>https://numpy.org/doc/stable/reference/random/index.html?highlight=random#module-numpy.random\n",
        "<br>Sitio Oficial de la libreria Pandas\n",
        "<br>https://pandas.pydata.org/docs/user_guide/index.html"
      ]
    },
    {
      "cell_type": "markdown",
      "metadata": {
        "id": "kAkDPUyRtYyH"
      },
      "source": [
        "Describe brevemente las lineas de como crees que es posible avanzar en el estudio del problema. Ten en cuenta incluso posibles variaciones del problema y/o variaciones al alza del tamaño"
      ]
    },
    {
      "cell_type": "markdown",
      "metadata": {
        "id": "IE0uZmo-tZu-"
      },
      "source": [
        "Respuesta\n",
        "<br> Una variación podría ser no fijar en 6 el numero de tomas que se firman de forma diaria, sino que este valor sea variables, y que exista actores que les pagues costos diferentes. "
      ]
    }
  ]
}